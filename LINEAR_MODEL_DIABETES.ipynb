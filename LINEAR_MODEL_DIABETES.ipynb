{
 "cells": [
  {
   "cell_type": "code",
   "execution_count": 4,
   "id": "3df82a8c",
   "metadata": {},
   "outputs": [],
   "source": [
    "import pandas as pd\n",
    "import numpy as np\n",
    "\n",
    "from statsmodels.stats.outliers_influence import variance_inflation_factor\n",
    "\n",
    "import matplotlib.pyplot as plt\n",
    "import seaborn as sns\n",
    "\n",
    "from sklearn.model_selection import train_test_split\n",
    "from sklearn.linear_model import LinearRegression\n",
    "\n",
    "from sklearn.metrics import mean_squared_error, r2_score, mean_absolute_error\n",
    "\n",
    "import pickle\n",
    "import json\n",
    "\n",
    "import warnings\n",
    "warnings.filterwarnings('ignore')"
   ]
  },
  {
   "cell_type": "markdown",
   "id": "6fb812c8",
   "metadata": {},
   "source": [
    "#### 1.Problem Statement"
   ]
  },
  {
   "cell_type": "code",
   "execution_count": null,
   "id": "3380b7d4",
   "metadata": {},
   "outputs": [],
   "source": [
    "To predict diabetic condition using following variables.\n",
    "1.age\n",
    "2.sex\n",
    "3.bmi\n",
    "4.bp\n",
    "5.s1\n",
    "6.s2\n",
    "7.s3\n",
    "8.s4\n",
    "9.s5\n",
    "10.s6"
   ]
  },
  {
   "cell_type": "markdown",
   "id": "22d20112",
   "metadata": {},
   "source": [
    "#### 2.Data Gathering"
   ]
  },
  {
   "cell_type": "code",
   "execution_count": 6,
   "id": "a4c33618",
   "metadata": {},
   "outputs": [
    {
     "data": {
      "text/html": [
       "<div>\n",
       "<style scoped>\n",
       "    .dataframe tbody tr th:only-of-type {\n",
       "        vertical-align: middle;\n",
       "    }\n",
       "\n",
       "    .dataframe tbody tr th {\n",
       "        vertical-align: top;\n",
       "    }\n",
       "\n",
       "    .dataframe thead th {\n",
       "        text-align: right;\n",
       "    }\n",
       "</style>\n",
       "<table border=\"1\" class=\"dataframe\">\n",
       "  <thead>\n",
       "    <tr style=\"text-align: right;\">\n",
       "      <th></th>\n",
       "      <th>age</th>\n",
       "      <th>sex</th>\n",
       "      <th>bmi</th>\n",
       "      <th>bp</th>\n",
       "      <th>s1</th>\n",
       "      <th>s2</th>\n",
       "      <th>s3</th>\n",
       "      <th>s4</th>\n",
       "      <th>s5</th>\n",
       "      <th>s6</th>\n",
       "      <th>TARGET</th>\n",
       "    </tr>\n",
       "  </thead>\n",
       "  <tbody>\n",
       "    <tr>\n",
       "      <th>0</th>\n",
       "      <td>0.038076</td>\n",
       "      <td>0.050680</td>\n",
       "      <td>0.061696</td>\n",
       "      <td>0.021872</td>\n",
       "      <td>-0.044223</td>\n",
       "      <td>-0.034821</td>\n",
       "      <td>-0.043401</td>\n",
       "      <td>-0.002592</td>\n",
       "      <td>0.019907</td>\n",
       "      <td>-0.017646</td>\n",
       "      <td>151.0</td>\n",
       "    </tr>\n",
       "    <tr>\n",
       "      <th>1</th>\n",
       "      <td>-0.001882</td>\n",
       "      <td>-0.044642</td>\n",
       "      <td>-0.051474</td>\n",
       "      <td>-0.026328</td>\n",
       "      <td>-0.008449</td>\n",
       "      <td>-0.019163</td>\n",
       "      <td>0.074412</td>\n",
       "      <td>-0.039493</td>\n",
       "      <td>-0.068332</td>\n",
       "      <td>-0.092204</td>\n",
       "      <td>75.0</td>\n",
       "    </tr>\n",
       "    <tr>\n",
       "      <th>2</th>\n",
       "      <td>0.085299</td>\n",
       "      <td>0.050680</td>\n",
       "      <td>0.044451</td>\n",
       "      <td>-0.005670</td>\n",
       "      <td>-0.045599</td>\n",
       "      <td>-0.034194</td>\n",
       "      <td>-0.032356</td>\n",
       "      <td>-0.002592</td>\n",
       "      <td>0.002861</td>\n",
       "      <td>-0.025930</td>\n",
       "      <td>141.0</td>\n",
       "    </tr>\n",
       "    <tr>\n",
       "      <th>3</th>\n",
       "      <td>-0.089063</td>\n",
       "      <td>-0.044642</td>\n",
       "      <td>-0.011595</td>\n",
       "      <td>-0.036656</td>\n",
       "      <td>0.012191</td>\n",
       "      <td>0.024991</td>\n",
       "      <td>-0.036038</td>\n",
       "      <td>0.034309</td>\n",
       "      <td>0.022688</td>\n",
       "      <td>-0.009362</td>\n",
       "      <td>206.0</td>\n",
       "    </tr>\n",
       "    <tr>\n",
       "      <th>4</th>\n",
       "      <td>0.005383</td>\n",
       "      <td>-0.044642</td>\n",
       "      <td>-0.036385</td>\n",
       "      <td>0.021872</td>\n",
       "      <td>0.003935</td>\n",
       "      <td>0.015596</td>\n",
       "      <td>0.008142</td>\n",
       "      <td>-0.002592</td>\n",
       "      <td>-0.031988</td>\n",
       "      <td>-0.046641</td>\n",
       "      <td>135.0</td>\n",
       "    </tr>\n",
       "    <tr>\n",
       "      <th>...</th>\n",
       "      <td>...</td>\n",
       "      <td>...</td>\n",
       "      <td>...</td>\n",
       "      <td>...</td>\n",
       "      <td>...</td>\n",
       "      <td>...</td>\n",
       "      <td>...</td>\n",
       "      <td>...</td>\n",
       "      <td>...</td>\n",
       "      <td>...</td>\n",
       "      <td>...</td>\n",
       "    </tr>\n",
       "    <tr>\n",
       "      <th>437</th>\n",
       "      <td>0.041708</td>\n",
       "      <td>0.050680</td>\n",
       "      <td>0.019662</td>\n",
       "      <td>0.059744</td>\n",
       "      <td>-0.005697</td>\n",
       "      <td>-0.002566</td>\n",
       "      <td>-0.028674</td>\n",
       "      <td>-0.002592</td>\n",
       "      <td>0.031193</td>\n",
       "      <td>0.007207</td>\n",
       "      <td>178.0</td>\n",
       "    </tr>\n",
       "    <tr>\n",
       "      <th>438</th>\n",
       "      <td>-0.005515</td>\n",
       "      <td>0.050680</td>\n",
       "      <td>-0.015906</td>\n",
       "      <td>-0.067642</td>\n",
       "      <td>0.049341</td>\n",
       "      <td>0.079165</td>\n",
       "      <td>-0.028674</td>\n",
       "      <td>0.034309</td>\n",
       "      <td>-0.018114</td>\n",
       "      <td>0.044485</td>\n",
       "      <td>104.0</td>\n",
       "    </tr>\n",
       "    <tr>\n",
       "      <th>439</th>\n",
       "      <td>0.041708</td>\n",
       "      <td>0.050680</td>\n",
       "      <td>-0.015906</td>\n",
       "      <td>0.017293</td>\n",
       "      <td>-0.037344</td>\n",
       "      <td>-0.013840</td>\n",
       "      <td>-0.024993</td>\n",
       "      <td>-0.011080</td>\n",
       "      <td>-0.046883</td>\n",
       "      <td>0.015491</td>\n",
       "      <td>132.0</td>\n",
       "    </tr>\n",
       "    <tr>\n",
       "      <th>440</th>\n",
       "      <td>-0.045472</td>\n",
       "      <td>-0.044642</td>\n",
       "      <td>0.039062</td>\n",
       "      <td>0.001215</td>\n",
       "      <td>0.016318</td>\n",
       "      <td>0.015283</td>\n",
       "      <td>-0.028674</td>\n",
       "      <td>0.026560</td>\n",
       "      <td>0.044529</td>\n",
       "      <td>-0.025930</td>\n",
       "      <td>220.0</td>\n",
       "    </tr>\n",
       "    <tr>\n",
       "      <th>441</th>\n",
       "      <td>-0.045472</td>\n",
       "      <td>-0.044642</td>\n",
       "      <td>-0.073030</td>\n",
       "      <td>-0.081413</td>\n",
       "      <td>0.083740</td>\n",
       "      <td>0.027809</td>\n",
       "      <td>0.173816</td>\n",
       "      <td>-0.039493</td>\n",
       "      <td>-0.004222</td>\n",
       "      <td>0.003064</td>\n",
       "      <td>57.0</td>\n",
       "    </tr>\n",
       "  </tbody>\n",
       "</table>\n",
       "<p>442 rows × 11 columns</p>\n",
       "</div>"
      ],
      "text/plain": [
       "          age       sex       bmi        bp        s1        s2        s3  \\\n",
       "0    0.038076  0.050680  0.061696  0.021872 -0.044223 -0.034821 -0.043401   \n",
       "1   -0.001882 -0.044642 -0.051474 -0.026328 -0.008449 -0.019163  0.074412   \n",
       "2    0.085299  0.050680  0.044451 -0.005670 -0.045599 -0.034194 -0.032356   \n",
       "3   -0.089063 -0.044642 -0.011595 -0.036656  0.012191  0.024991 -0.036038   \n",
       "4    0.005383 -0.044642 -0.036385  0.021872  0.003935  0.015596  0.008142   \n",
       "..        ...       ...       ...       ...       ...       ...       ...   \n",
       "437  0.041708  0.050680  0.019662  0.059744 -0.005697 -0.002566 -0.028674   \n",
       "438 -0.005515  0.050680 -0.015906 -0.067642  0.049341  0.079165 -0.028674   \n",
       "439  0.041708  0.050680 -0.015906  0.017293 -0.037344 -0.013840 -0.024993   \n",
       "440 -0.045472 -0.044642  0.039062  0.001215  0.016318  0.015283 -0.028674   \n",
       "441 -0.045472 -0.044642 -0.073030 -0.081413  0.083740  0.027809  0.173816   \n",
       "\n",
       "           s4        s5        s6  TARGET  \n",
       "0   -0.002592  0.019907 -0.017646   151.0  \n",
       "1   -0.039493 -0.068332 -0.092204    75.0  \n",
       "2   -0.002592  0.002861 -0.025930   141.0  \n",
       "3    0.034309  0.022688 -0.009362   206.0  \n",
       "4   -0.002592 -0.031988 -0.046641   135.0  \n",
       "..        ...       ...       ...     ...  \n",
       "437 -0.002592  0.031193  0.007207   178.0  \n",
       "438  0.034309 -0.018114  0.044485   104.0  \n",
       "439 -0.011080 -0.046883  0.015491   132.0  \n",
       "440  0.026560  0.044529 -0.025930   220.0  \n",
       "441 -0.039493 -0.004222  0.003064    57.0  \n",
       "\n",
       "[442 rows x 11 columns]"
      ]
     },
     "execution_count": 6,
     "metadata": {},
     "output_type": "execute_result"
    }
   ],
   "source": [
    "df = pd.read_csv(r\"D:\\DATA SCIENCE\\Linear_Regression_Model\\Diabetes\\static\\csv_files\\diabetes_data.csv\")\n",
    "df"
   ]
  },
  {
   "cell_type": "markdown",
   "id": "5b7488a8",
   "metadata": {},
   "source": [
    "#### 3.Exploratory Data Analysis"
   ]
  },
  {
   "cell_type": "markdown",
   "id": "ffd90a67",
   "metadata": {},
   "source": [
    "##### 1.Missing value"
   ]
  },
  {
   "cell_type": "code",
   "execution_count": 7,
   "id": "3fd9bd0f",
   "metadata": {
    "scrolled": true
   },
   "outputs": [
    {
     "data": {
      "text/plain": [
       "age       0\n",
       "sex       0\n",
       "bmi       0\n",
       "bp        0\n",
       "s1        0\n",
       "s2        0\n",
       "s3        0\n",
       "s4        0\n",
       "s5        0\n",
       "s6        0\n",
       "TARGET    0\n",
       "dtype: int64"
      ]
     },
     "execution_count": 7,
     "metadata": {},
     "output_type": "execute_result"
    }
   ],
   "source": [
    "df.isnull().sum()"
   ]
  },
  {
   "cell_type": "code",
   "execution_count": null,
   "id": "8403906f",
   "metadata": {},
   "outputs": [],
   "source": [
    "DataFrame contains no missing values"
   ]
  },
  {
   "cell_type": "markdown",
   "id": "ae77f6be",
   "metadata": {},
   "source": [
    "##### 2.Categorical Data(Object DataType)"
   ]
  },
  {
   "cell_type": "code",
   "execution_count": 8,
   "id": "68f14469",
   "metadata": {},
   "outputs": [
    {
     "name": "stdout",
     "output_type": "stream",
     "text": [
      "<class 'pandas.core.frame.DataFrame'>\n",
      "RangeIndex: 442 entries, 0 to 441\n",
      "Data columns (total 11 columns):\n",
      " #   Column  Non-Null Count  Dtype  \n",
      "---  ------  --------------  -----  \n",
      " 0   age     442 non-null    float64\n",
      " 1   sex     442 non-null    float64\n",
      " 2   bmi     442 non-null    float64\n",
      " 3   bp      442 non-null    float64\n",
      " 4   s1      442 non-null    float64\n",
      " 5   s2      442 non-null    float64\n",
      " 6   s3      442 non-null    float64\n",
      " 7   s4      442 non-null    float64\n",
      " 8   s5      442 non-null    float64\n",
      " 9   s6      442 non-null    float64\n",
      " 10  TARGET  442 non-null    float64\n",
      "dtypes: float64(11)\n",
      "memory usage: 38.1 KB\n"
     ]
    }
   ],
   "source": [
    "df.info()"
   ]
  },
  {
   "cell_type": "code",
   "execution_count": 9,
   "id": "a34b1e71",
   "metadata": {},
   "outputs": [
    {
     "data": {
      "text/plain": [
       "age       float64\n",
       "sex       float64\n",
       "bmi       float64\n",
       "bp        float64\n",
       "s1        float64\n",
       "s2        float64\n",
       "s3        float64\n",
       "s4        float64\n",
       "s5        float64\n",
       "s6        float64\n",
       "TARGET    float64\n",
       "dtype: object"
      ]
     },
     "execution_count": 9,
     "metadata": {},
     "output_type": "execute_result"
    }
   ],
   "source": [
    "df.dtypes"
   ]
  },
  {
   "cell_type": "code",
   "execution_count": null,
   "id": "7d4ab2c4",
   "metadata": {},
   "outputs": [],
   "source": [
    "DataFrame has no categorical data(object data type)"
   ]
  },
  {
   "cell_type": "markdown",
   "id": "db737a7d",
   "metadata": {},
   "source": [
    "#### 4.Feature Engineering"
   ]
  },
  {
   "cell_type": "code",
   "execution_count": null,
   "id": "ae22b8f7",
   "metadata": {},
   "outputs": [],
   "source": [
    "No need to perform feature engineering as DataFrame contains no missing value and no object data type"
   ]
  },
  {
   "cell_type": "markdown",
   "id": "94e5d2d3",
   "metadata": {},
   "source": [
    "#### 5.Feature selection"
   ]
  },
  {
   "cell_type": "markdown",
   "id": "eb2d7992",
   "metadata": {},
   "source": [
    "##### 1.Linearity"
   ]
  },
  {
   "cell_type": "code",
   "execution_count": 10,
   "id": "f9104636",
   "metadata": {},
   "outputs": [
    {
     "data": {
      "text/html": [
       "<div>\n",
       "<style scoped>\n",
       "    .dataframe tbody tr th:only-of-type {\n",
       "        vertical-align: middle;\n",
       "    }\n",
       "\n",
       "    .dataframe tbody tr th {\n",
       "        vertical-align: top;\n",
       "    }\n",
       "\n",
       "    .dataframe thead th {\n",
       "        text-align: right;\n",
       "    }\n",
       "</style>\n",
       "<table border=\"1\" class=\"dataframe\">\n",
       "  <thead>\n",
       "    <tr style=\"text-align: right;\">\n",
       "      <th></th>\n",
       "      <th>age</th>\n",
       "      <th>sex</th>\n",
       "      <th>bmi</th>\n",
       "      <th>bp</th>\n",
       "      <th>s1</th>\n",
       "      <th>s2</th>\n",
       "      <th>s3</th>\n",
       "      <th>s4</th>\n",
       "      <th>s5</th>\n",
       "      <th>s6</th>\n",
       "      <th>TARGET</th>\n",
       "    </tr>\n",
       "  </thead>\n",
       "  <tbody>\n",
       "    <tr>\n",
       "      <th>age</th>\n",
       "      <td>1.000000</td>\n",
       "      <td>0.173737</td>\n",
       "      <td>0.185085</td>\n",
       "      <td>0.335428</td>\n",
       "      <td>0.260061</td>\n",
       "      <td>0.219243</td>\n",
       "      <td>-0.075181</td>\n",
       "      <td>0.203841</td>\n",
       "      <td>0.270774</td>\n",
       "      <td>0.301731</td>\n",
       "      <td>0.187889</td>\n",
       "    </tr>\n",
       "    <tr>\n",
       "      <th>sex</th>\n",
       "      <td>0.173737</td>\n",
       "      <td>1.000000</td>\n",
       "      <td>0.088161</td>\n",
       "      <td>0.241010</td>\n",
       "      <td>0.035277</td>\n",
       "      <td>0.142637</td>\n",
       "      <td>-0.379090</td>\n",
       "      <td>0.332115</td>\n",
       "      <td>0.149916</td>\n",
       "      <td>0.208133</td>\n",
       "      <td>0.043062</td>\n",
       "    </tr>\n",
       "    <tr>\n",
       "      <th>bmi</th>\n",
       "      <td>0.185085</td>\n",
       "      <td>0.088161</td>\n",
       "      <td>1.000000</td>\n",
       "      <td>0.395411</td>\n",
       "      <td>0.249777</td>\n",
       "      <td>0.261170</td>\n",
       "      <td>-0.366811</td>\n",
       "      <td>0.413807</td>\n",
       "      <td>0.446157</td>\n",
       "      <td>0.388680</td>\n",
       "      <td>0.586450</td>\n",
       "    </tr>\n",
       "    <tr>\n",
       "      <th>bp</th>\n",
       "      <td>0.335428</td>\n",
       "      <td>0.241010</td>\n",
       "      <td>0.395411</td>\n",
       "      <td>1.000000</td>\n",
       "      <td>0.242464</td>\n",
       "      <td>0.185548</td>\n",
       "      <td>-0.178762</td>\n",
       "      <td>0.257650</td>\n",
       "      <td>0.393480</td>\n",
       "      <td>0.390430</td>\n",
       "      <td>0.441482</td>\n",
       "    </tr>\n",
       "    <tr>\n",
       "      <th>s1</th>\n",
       "      <td>0.260061</td>\n",
       "      <td>0.035277</td>\n",
       "      <td>0.249777</td>\n",
       "      <td>0.242464</td>\n",
       "      <td>1.000000</td>\n",
       "      <td>0.896663</td>\n",
       "      <td>0.051519</td>\n",
       "      <td>0.542207</td>\n",
       "      <td>0.515503</td>\n",
       "      <td>0.325717</td>\n",
       "      <td>0.212022</td>\n",
       "    </tr>\n",
       "    <tr>\n",
       "      <th>s2</th>\n",
       "      <td>0.219243</td>\n",
       "      <td>0.142637</td>\n",
       "      <td>0.261170</td>\n",
       "      <td>0.185548</td>\n",
       "      <td>0.896663</td>\n",
       "      <td>1.000000</td>\n",
       "      <td>-0.196455</td>\n",
       "      <td>0.659817</td>\n",
       "      <td>0.318357</td>\n",
       "      <td>0.290600</td>\n",
       "      <td>0.174054</td>\n",
       "    </tr>\n",
       "    <tr>\n",
       "      <th>s3</th>\n",
       "      <td>-0.075181</td>\n",
       "      <td>-0.379090</td>\n",
       "      <td>-0.366811</td>\n",
       "      <td>-0.178762</td>\n",
       "      <td>0.051519</td>\n",
       "      <td>-0.196455</td>\n",
       "      <td>1.000000</td>\n",
       "      <td>-0.738493</td>\n",
       "      <td>-0.398577</td>\n",
       "      <td>-0.273697</td>\n",
       "      <td>-0.394789</td>\n",
       "    </tr>\n",
       "    <tr>\n",
       "      <th>s4</th>\n",
       "      <td>0.203841</td>\n",
       "      <td>0.332115</td>\n",
       "      <td>0.413807</td>\n",
       "      <td>0.257650</td>\n",
       "      <td>0.542207</td>\n",
       "      <td>0.659817</td>\n",
       "      <td>-0.738493</td>\n",
       "      <td>1.000000</td>\n",
       "      <td>0.617859</td>\n",
       "      <td>0.417212</td>\n",
       "      <td>0.430453</td>\n",
       "    </tr>\n",
       "    <tr>\n",
       "      <th>s5</th>\n",
       "      <td>0.270774</td>\n",
       "      <td>0.149916</td>\n",
       "      <td>0.446157</td>\n",
       "      <td>0.393480</td>\n",
       "      <td>0.515503</td>\n",
       "      <td>0.318357</td>\n",
       "      <td>-0.398577</td>\n",
       "      <td>0.617859</td>\n",
       "      <td>1.000000</td>\n",
       "      <td>0.464669</td>\n",
       "      <td>0.565883</td>\n",
       "    </tr>\n",
       "    <tr>\n",
       "      <th>s6</th>\n",
       "      <td>0.301731</td>\n",
       "      <td>0.208133</td>\n",
       "      <td>0.388680</td>\n",
       "      <td>0.390430</td>\n",
       "      <td>0.325717</td>\n",
       "      <td>0.290600</td>\n",
       "      <td>-0.273697</td>\n",
       "      <td>0.417212</td>\n",
       "      <td>0.464669</td>\n",
       "      <td>1.000000</td>\n",
       "      <td>0.382483</td>\n",
       "    </tr>\n",
       "    <tr>\n",
       "      <th>TARGET</th>\n",
       "      <td>0.187889</td>\n",
       "      <td>0.043062</td>\n",
       "      <td>0.586450</td>\n",
       "      <td>0.441482</td>\n",
       "      <td>0.212022</td>\n",
       "      <td>0.174054</td>\n",
       "      <td>-0.394789</td>\n",
       "      <td>0.430453</td>\n",
       "      <td>0.565883</td>\n",
       "      <td>0.382483</td>\n",
       "      <td>1.000000</td>\n",
       "    </tr>\n",
       "  </tbody>\n",
       "</table>\n",
       "</div>"
      ],
      "text/plain": [
       "             age       sex       bmi        bp        s1        s2        s3  \\\n",
       "age     1.000000  0.173737  0.185085  0.335428  0.260061  0.219243 -0.075181   \n",
       "sex     0.173737  1.000000  0.088161  0.241010  0.035277  0.142637 -0.379090   \n",
       "bmi     0.185085  0.088161  1.000000  0.395411  0.249777  0.261170 -0.366811   \n",
       "bp      0.335428  0.241010  0.395411  1.000000  0.242464  0.185548 -0.178762   \n",
       "s1      0.260061  0.035277  0.249777  0.242464  1.000000  0.896663  0.051519   \n",
       "s2      0.219243  0.142637  0.261170  0.185548  0.896663  1.000000 -0.196455   \n",
       "s3     -0.075181 -0.379090 -0.366811 -0.178762  0.051519 -0.196455  1.000000   \n",
       "s4      0.203841  0.332115  0.413807  0.257650  0.542207  0.659817 -0.738493   \n",
       "s5      0.270774  0.149916  0.446157  0.393480  0.515503  0.318357 -0.398577   \n",
       "s6      0.301731  0.208133  0.388680  0.390430  0.325717  0.290600 -0.273697   \n",
       "TARGET  0.187889  0.043062  0.586450  0.441482  0.212022  0.174054 -0.394789   \n",
       "\n",
       "              s4        s5        s6    TARGET  \n",
       "age     0.203841  0.270774  0.301731  0.187889  \n",
       "sex     0.332115  0.149916  0.208133  0.043062  \n",
       "bmi     0.413807  0.446157  0.388680  0.586450  \n",
       "bp      0.257650  0.393480  0.390430  0.441482  \n",
       "s1      0.542207  0.515503  0.325717  0.212022  \n",
       "s2      0.659817  0.318357  0.290600  0.174054  \n",
       "s3     -0.738493 -0.398577 -0.273697 -0.394789  \n",
       "s4      1.000000  0.617859  0.417212  0.430453  \n",
       "s5      0.617859  1.000000  0.464669  0.565883  \n",
       "s6      0.417212  0.464669  1.000000  0.382483  \n",
       "TARGET  0.430453  0.565883  0.382483  1.000000  "
      ]
     },
     "execution_count": 10,
     "metadata": {},
     "output_type": "execute_result"
    }
   ],
   "source": [
    "df.corr()"
   ]
  },
  {
   "cell_type": "code",
   "execution_count": 11,
   "id": "0ce94f64",
   "metadata": {},
   "outputs": [
    {
     "data": {
      "image/png": "[encoded data removed]",
      "text/plain": [
       "<Figure size 2000x1500 with 2 Axes>"
      ]
     },
     "metadata": {},
     "output_type": "display_data"
    }
   ],
   "source": [
    "plt.figure(figsize = (20,15))\n",
    "sns.heatmap(df.corr(),annot = True)\n",
    "plt.savefig('Diabetes_corr.png')"
   ]
  },
  {
   "cell_type": "code",
   "execution_count": 12,
   "id": "585acb9f",
   "metadata": {},
   "outputs": [
    {
     "data": {
      "image/png": "[encoded data removed]",
      "text/plain": [
       "<Figure size 2000x400 with 2 Axes>"
      ]
     },
     "metadata": {},
     "output_type": "display_data"
    }
   ],
   "source": [
    "plt.figure(figsize = (20,4))\n",
    "sns.heatmap(df.corr().tail(1),annot = True)\n",
    "plt.savefig('Diabetes_corr.png')"
   ]
  },
  {
   "cell_type": "markdown",
   "id": "bb718354",
   "metadata": {},
   "source": [
    "#### 2.No Multicolinearity"
   ]
  },
  {
   "cell_type": "code",
   "execution_count": 13,
   "id": "a6127b72",
   "metadata": {},
   "outputs": [],
   "source": [
    "x = df.drop('TARGET',axis = 1)\n",
    "y = df['TARGET']"
   ]
  },
  {
   "cell_type": "code",
   "execution_count": 14,
   "id": "4c1a73b2",
   "metadata": {},
   "outputs": [
    {
     "data": {
      "text/plain": [
       "Index(['age', 'sex', 'bmi', 'bp', 's1', 's2', 's3', 's4', 's5', 's6'], dtype='object')"
      ]
     },
     "execution_count": 14,
     "metadata": {},
     "output_type": "execute_result"
    }
   ],
   "source": [
    "x.columns"
   ]
  },
  {
   "cell_type": "code",
   "execution_count": 15,
   "id": "7d15c1ea",
   "metadata": {},
   "outputs": [
    {
     "data": {
      "text/plain": [
       "[1.2173065138070074,\n",
       " 1.2780710154103623,\n",
       " 1.5094373738445481,\n",
       " 1.4594277776838305,\n",
       " 59.202510134319006,\n",
       " 39.1933699727707,\n",
       " 15.40215600751348,\n",
       " 8.890986360329643,\n",
       " 10.075967132038347,\n",
       " 1.4846226073834827]"
      ]
     },
     "execution_count": 15,
     "metadata": {},
     "output_type": "execute_result"
    }
   ],
   "source": [
    "vif_list = []\n",
    "for i in range(x.shape[1]):\n",
    "    vif = variance_inflation_factor(x.to_numpy(),i)\n",
    "    vif_list.append(vif)\n",
    "vif_list"
   ]
  },
  {
   "cell_type": "code",
   "execution_count": 16,
   "id": "99b32eac",
   "metadata": {},
   "outputs": [
    {
     "data": {
      "text/plain": [
       "age     1.217307\n",
       "sex     1.278071\n",
       "bmi     1.509437\n",
       "bp      1.459428\n",
       "s1     59.202510\n",
       "s2     39.193370\n",
       "s3     15.402156\n",
       "s4      8.890986\n",
       "s5     10.075967\n",
       "s6      1.484623\n",
       "dtype: float64"
      ]
     },
     "execution_count": 16,
     "metadata": {},
     "output_type": "execute_result"
    }
   ],
   "source": [
    "vif_list = []\n",
    "for i in range(x.shape[1]):\n",
    "    vif = variance_inflation_factor(x.to_numpy(),i)\n",
    "    vif_list.append(vif)\n",
    "\n",
    "vif_values = pd.Series(vif_list,index = x.columns)\n",
    "vif_values"
   ]
  },
  {
   "cell_type": "code",
   "execution_count": 17,
   "id": "3994c96d",
   "metadata": {},
   "outputs": [
    {
     "data": {
      "text/plain": [
       "<Axes: >"
      ]
     },
     "execution_count": 17,
     "metadata": {},
     "output_type": "execute_result"
    },
    {
     "data": {
      "image/png": "[encoded data removed]",
      "text/plain": [
       "<Figure size 640x480 with 1 Axes>"
      ]
     },
     "metadata": {},
     "output_type": "display_data"
    }
   ],
   "source": [
    "vif_values.sort_values().plot(kind = 'bar')"
   ]
  },
  {
   "cell_type": "markdown",
   "id": "418e2d96",
   "metadata": {},
   "source": [
    "#### 6 Model Training"
   ]
  },
  {
   "cell_type": "code",
   "execution_count": 18,
   "id": "6fdef2d2",
   "metadata": {},
   "outputs": [
    {
     "data": {
      "text/html": [
       "<div>\n",
       "<style scoped>\n",
       "    .dataframe tbody tr th:only-of-type {\n",
       "        vertical-align: middle;\n",
       "    }\n",
       "\n",
       "    .dataframe tbody tr th {\n",
       "        vertical-align: top;\n",
       "    }\n",
       "\n",
       "    .dataframe thead th {\n",
       "        text-align: right;\n",
       "    }\n",
       "</style>\n",
       "<table border=\"1\" class=\"dataframe\">\n",
       "  <thead>\n",
       "    <tr style=\"text-align: right;\">\n",
       "      <th></th>\n",
       "      <th>age</th>\n",
       "      <th>sex</th>\n",
       "      <th>bmi</th>\n",
       "      <th>bp</th>\n",
       "      <th>s1</th>\n",
       "      <th>s2</th>\n",
       "      <th>s3</th>\n",
       "      <th>s4</th>\n",
       "      <th>s5</th>\n",
       "      <th>s6</th>\n",
       "    </tr>\n",
       "  </thead>\n",
       "  <tbody>\n",
       "    <tr>\n",
       "      <th>0</th>\n",
       "      <td>0.038076</td>\n",
       "      <td>0.050680</td>\n",
       "      <td>0.061696</td>\n",
       "      <td>0.021872</td>\n",
       "      <td>-0.044223</td>\n",
       "      <td>-0.034821</td>\n",
       "      <td>-0.043401</td>\n",
       "      <td>-0.002592</td>\n",
       "      <td>0.019907</td>\n",
       "      <td>-0.017646</td>\n",
       "    </tr>\n",
       "    <tr>\n",
       "      <th>1</th>\n",
       "      <td>-0.001882</td>\n",
       "      <td>-0.044642</td>\n",
       "      <td>-0.051474</td>\n",
       "      <td>-0.026328</td>\n",
       "      <td>-0.008449</td>\n",
       "      <td>-0.019163</td>\n",
       "      <td>0.074412</td>\n",
       "      <td>-0.039493</td>\n",
       "      <td>-0.068332</td>\n",
       "      <td>-0.092204</td>\n",
       "    </tr>\n",
       "    <tr>\n",
       "      <th>2</th>\n",
       "      <td>0.085299</td>\n",
       "      <td>0.050680</td>\n",
       "      <td>0.044451</td>\n",
       "      <td>-0.005670</td>\n",
       "      <td>-0.045599</td>\n",
       "      <td>-0.034194</td>\n",
       "      <td>-0.032356</td>\n",
       "      <td>-0.002592</td>\n",
       "      <td>0.002861</td>\n",
       "      <td>-0.025930</td>\n",
       "    </tr>\n",
       "    <tr>\n",
       "      <th>3</th>\n",
       "      <td>-0.089063</td>\n",
       "      <td>-0.044642</td>\n",
       "      <td>-0.011595</td>\n",
       "      <td>-0.036656</td>\n",
       "      <td>0.012191</td>\n",
       "      <td>0.024991</td>\n",
       "      <td>-0.036038</td>\n",
       "      <td>0.034309</td>\n",
       "      <td>0.022688</td>\n",
       "      <td>-0.009362</td>\n",
       "    </tr>\n",
       "    <tr>\n",
       "      <th>4</th>\n",
       "      <td>0.005383</td>\n",
       "      <td>-0.044642</td>\n",
       "      <td>-0.036385</td>\n",
       "      <td>0.021872</td>\n",
       "      <td>0.003935</td>\n",
       "      <td>0.015596</td>\n",
       "      <td>0.008142</td>\n",
       "      <td>-0.002592</td>\n",
       "      <td>-0.031988</td>\n",
       "      <td>-0.046641</td>\n",
       "    </tr>\n",
       "    <tr>\n",
       "      <th>...</th>\n",
       "      <td>...</td>\n",
       "      <td>...</td>\n",
       "      <td>...</td>\n",
       "      <td>...</td>\n",
       "      <td>...</td>\n",
       "      <td>...</td>\n",
       "      <td>...</td>\n",
       "      <td>...</td>\n",
       "      <td>...</td>\n",
       "      <td>...</td>\n",
       "    </tr>\n",
       "    <tr>\n",
       "      <th>437</th>\n",
       "      <td>0.041708</td>\n",
       "      <td>0.050680</td>\n",
       "      <td>0.019662</td>\n",
       "      <td>0.059744</td>\n",
       "      <td>-0.005697</td>\n",
       "      <td>-0.002566</td>\n",
       "      <td>-0.028674</td>\n",
       "      <td>-0.002592</td>\n",
       "      <td>0.031193</td>\n",
       "      <td>0.007207</td>\n",
       "    </tr>\n",
       "    <tr>\n",
       "      <th>438</th>\n",
       "      <td>-0.005515</td>\n",
       "      <td>0.050680</td>\n",
       "      <td>-0.015906</td>\n",
       "      <td>-0.067642</td>\n",
       "      <td>0.049341</td>\n",
       "      <td>0.079165</td>\n",
       "      <td>-0.028674</td>\n",
       "      <td>0.034309</td>\n",
       "      <td>-0.018114</td>\n",
       "      <td>0.044485</td>\n",
       "    </tr>\n",
       "    <tr>\n",
       "      <th>439</th>\n",
       "      <td>0.041708</td>\n",
       "      <td>0.050680</td>\n",
       "      <td>-0.015906</td>\n",
       "      <td>0.017293</td>\n",
       "      <td>-0.037344</td>\n",
       "      <td>-0.013840</td>\n",
       "      <td>-0.024993</td>\n",
       "      <td>-0.011080</td>\n",
       "      <td>-0.046883</td>\n",
       "      <td>0.015491</td>\n",
       "    </tr>\n",
       "    <tr>\n",
       "      <th>440</th>\n",
       "      <td>-0.045472</td>\n",
       "      <td>-0.044642</td>\n",
       "      <td>0.039062</td>\n",
       "      <td>0.001215</td>\n",
       "      <td>0.016318</td>\n",
       "      <td>0.015283</td>\n",
       "      <td>-0.028674</td>\n",
       "      <td>0.026560</td>\n",
       "      <td>0.044529</td>\n",
       "      <td>-0.025930</td>\n",
       "    </tr>\n",
       "    <tr>\n",
       "      <th>441</th>\n",
       "      <td>-0.045472</td>\n",
       "      <td>-0.044642</td>\n",
       "      <td>-0.073030</td>\n",
       "      <td>-0.081413</td>\n",
       "      <td>0.083740</td>\n",
       "      <td>0.027809</td>\n",
       "      <td>0.173816</td>\n",
       "      <td>-0.039493</td>\n",
       "      <td>-0.004222</td>\n",
       "      <td>0.003064</td>\n",
       "    </tr>\n",
       "  </tbody>\n",
       "</table>\n",
       "<p>442 rows × 10 columns</p>\n",
       "</div>"
      ],
      "text/plain": [
       "          age       sex       bmi        bp        s1        s2        s3  \\\n",
       "0    0.038076  0.050680  0.061696  0.021872 -0.044223 -0.034821 -0.043401   \n",
       "1   -0.001882 -0.044642 -0.051474 -0.026328 -0.008449 -0.019163  0.074412   \n",
       "2    0.085299  0.050680  0.044451 -0.005670 -0.045599 -0.034194 -0.032356   \n",
       "3   -0.089063 -0.044642 -0.011595 -0.036656  0.012191  0.024991 -0.036038   \n",
       "4    0.005383 -0.044642 -0.036385  0.021872  0.003935  0.015596  0.008142   \n",
       "..        ...       ...       ...       ...       ...       ...       ...   \n",
       "437  0.041708  0.050680  0.019662  0.059744 -0.005697 -0.002566 -0.028674   \n",
       "438 -0.005515  0.050680 -0.015906 -0.067642  0.049341  0.079165 -0.028674   \n",
       "439  0.041708  0.050680 -0.015906  0.017293 -0.037344 -0.013840 -0.024993   \n",
       "440 -0.045472 -0.044642  0.039062  0.001215  0.016318  0.015283 -0.028674   \n",
       "441 -0.045472 -0.044642 -0.073030 -0.081413  0.083740  0.027809  0.173816   \n",
       "\n",
       "           s4        s5        s6  \n",
       "0   -0.002592  0.019907 -0.017646  \n",
       "1   -0.039493 -0.068332 -0.092204  \n",
       "2   -0.002592  0.002861 -0.025930  \n",
       "3    0.034309  0.022688 -0.009362  \n",
       "4   -0.002592 -0.031988 -0.046641  \n",
       "..        ...       ...       ...  \n",
       "437 -0.002592  0.031193  0.007207  \n",
       "438  0.034309 -0.018114  0.044485  \n",
       "439 -0.011080 -0.046883  0.015491  \n",
       "440  0.026560  0.044529 -0.025930  \n",
       "441 -0.039493 -0.004222  0.003064  \n",
       "\n",
       "[442 rows x 10 columns]"
      ]
     },
     "execution_count": 18,
     "metadata": {},
     "output_type": "execute_result"
    }
   ],
   "source": [
    "x"
   ]
  },
  {
   "cell_type": "code",
   "execution_count": 19,
   "id": "62069781",
   "metadata": {},
   "outputs": [
    {
     "data": {
      "text/plain": [
       "0      151.0\n",
       "1       75.0\n",
       "2      141.0\n",
       "3      206.0\n",
       "4      135.0\n",
       "       ...  \n",
       "437    178.0\n",
       "438    104.0\n",
       "439    132.0\n",
       "440    220.0\n",
       "441     57.0\n",
       "Name: TARGET, Length: 442, dtype: float64"
      ]
     },
     "execution_count": 19,
     "metadata": {},
     "output_type": "execute_result"
    }
   ],
   "source": [
    "y"
   ]
  },
  {
   "cell_type": "markdown",
   "id": "dd0f002b",
   "metadata": {},
   "source": [
    "##### Data Spliting"
   ]
  },
  {
   "cell_type": "code",
   "execution_count": 20,
   "id": "498f8f8a",
   "metadata": {},
   "outputs": [],
   "source": [
    "x_train,x_test,y_train,y_test = train_test_split(x,y,train_size = 0.8,\n",
    "                                                random_state = 2)"
   ]
  },
  {
   "cell_type": "code",
   "execution_count": 21,
   "id": "0eb1a589",
   "metadata": {},
   "outputs": [
    {
     "data": {
      "text/html": [
       "<div>\n",
       "<style scoped>\n",
       "    .dataframe tbody tr th:only-of-type {\n",
       "        vertical-align: middle;\n",
       "    }\n",
       "\n",
       "    .dataframe tbody tr th {\n",
       "        vertical-align: top;\n",
       "    }\n",
       "\n",
       "    .dataframe thead th {\n",
       "        text-align: right;\n",
       "    }\n",
       "</style>\n",
       "<table border=\"1\" class=\"dataframe\">\n",
       "  <thead>\n",
       "    <tr style=\"text-align: right;\">\n",
       "      <th></th>\n",
       "      <th>age</th>\n",
       "      <th>sex</th>\n",
       "      <th>bmi</th>\n",
       "      <th>bp</th>\n",
       "      <th>s1</th>\n",
       "      <th>s2</th>\n",
       "      <th>s3</th>\n",
       "      <th>s4</th>\n",
       "      <th>s5</th>\n",
       "      <th>s6</th>\n",
       "    </tr>\n",
       "  </thead>\n",
       "  <tbody>\n",
       "    <tr>\n",
       "      <th>70</th>\n",
       "      <td>-0.001882</td>\n",
       "      <td>-0.044642</td>\n",
       "      <td>-0.069797</td>\n",
       "      <td>-0.012556</td>\n",
       "      <td>-0.000193</td>\n",
       "      <td>-0.009143</td>\n",
       "      <td>0.070730</td>\n",
       "      <td>-0.039493</td>\n",
       "      <td>-0.062917</td>\n",
       "      <td>0.040343</td>\n",
       "    </tr>\n",
       "    <tr>\n",
       "      <th>37</th>\n",
       "      <td>-0.009147</td>\n",
       "      <td>-0.044642</td>\n",
       "      <td>0.011039</td>\n",
       "      <td>-0.057313</td>\n",
       "      <td>-0.024960</td>\n",
       "      <td>-0.042963</td>\n",
       "      <td>0.030232</td>\n",
       "      <td>-0.039493</td>\n",
       "      <td>0.017036</td>\n",
       "      <td>-0.005220</td>\n",
       "    </tr>\n",
       "    <tr>\n",
       "      <th>170</th>\n",
       "      <td>0.023546</td>\n",
       "      <td>0.050680</td>\n",
       "      <td>-0.020218</td>\n",
       "      <td>-0.036656</td>\n",
       "      <td>-0.013953</td>\n",
       "      <td>-0.015092</td>\n",
       "      <td>0.059685</td>\n",
       "      <td>-0.039493</td>\n",
       "      <td>-0.096435</td>\n",
       "      <td>-0.017646</td>\n",
       "    </tr>\n",
       "    <tr>\n",
       "      <th>400</th>\n",
       "      <td>-0.023677</td>\n",
       "      <td>-0.044642</td>\n",
       "      <td>0.045529</td>\n",
       "      <td>0.090729</td>\n",
       "      <td>-0.018080</td>\n",
       "      <td>-0.035447</td>\n",
       "      <td>0.070730</td>\n",
       "      <td>-0.039493</td>\n",
       "      <td>-0.034522</td>\n",
       "      <td>-0.009362</td>\n",
       "    </tr>\n",
       "    <tr>\n",
       "      <th>286</th>\n",
       "      <td>-0.038207</td>\n",
       "      <td>-0.044642</td>\n",
       "      <td>-0.054707</td>\n",
       "      <td>-0.077970</td>\n",
       "      <td>-0.033216</td>\n",
       "      <td>-0.086490</td>\n",
       "      <td>0.140681</td>\n",
       "      <td>-0.076395</td>\n",
       "      <td>-0.019198</td>\n",
       "      <td>-0.005220</td>\n",
       "    </tr>\n",
       "    <tr>\n",
       "      <th>...</th>\n",
       "      <td>...</td>\n",
       "      <td>...</td>\n",
       "      <td>...</td>\n",
       "      <td>...</td>\n",
       "      <td>...</td>\n",
       "      <td>...</td>\n",
       "      <td>...</td>\n",
       "      <td>...</td>\n",
       "      <td>...</td>\n",
       "      <td>...</td>\n",
       "    </tr>\n",
       "    <tr>\n",
       "      <th>299</th>\n",
       "      <td>0.038076</td>\n",
       "      <td>0.050680</td>\n",
       "      <td>-0.013751</td>\n",
       "      <td>-0.015999</td>\n",
       "      <td>-0.035968</td>\n",
       "      <td>-0.021982</td>\n",
       "      <td>-0.013948</td>\n",
       "      <td>-0.002592</td>\n",
       "      <td>-0.025953</td>\n",
       "      <td>-0.001078</td>\n",
       "    </tr>\n",
       "    <tr>\n",
       "      <th>22</th>\n",
       "      <td>-0.085430</td>\n",
       "      <td>-0.044642</td>\n",
       "      <td>-0.004050</td>\n",
       "      <td>-0.009113</td>\n",
       "      <td>-0.002945</td>\n",
       "      <td>0.007767</td>\n",
       "      <td>0.022869</td>\n",
       "      <td>-0.039493</td>\n",
       "      <td>-0.061176</td>\n",
       "      <td>-0.013504</td>\n",
       "    </tr>\n",
       "    <tr>\n",
       "      <th>72</th>\n",
       "      <td>0.063504</td>\n",
       "      <td>0.050680</td>\n",
       "      <td>-0.004050</td>\n",
       "      <td>-0.012556</td>\n",
       "      <td>0.103003</td>\n",
       "      <td>0.048790</td>\n",
       "      <td>0.056003</td>\n",
       "      <td>-0.002592</td>\n",
       "      <td>0.084492</td>\n",
       "      <td>-0.017646</td>\n",
       "    </tr>\n",
       "    <tr>\n",
       "      <th>15</th>\n",
       "      <td>-0.052738</td>\n",
       "      <td>0.050680</td>\n",
       "      <td>-0.018062</td>\n",
       "      <td>0.080401</td>\n",
       "      <td>0.089244</td>\n",
       "      <td>0.107662</td>\n",
       "      <td>-0.039719</td>\n",
       "      <td>0.108111</td>\n",
       "      <td>0.036060</td>\n",
       "      <td>-0.042499</td>\n",
       "    </tr>\n",
       "    <tr>\n",
       "      <th>168</th>\n",
       "      <td>0.001751</td>\n",
       "      <td>0.050680</td>\n",
       "      <td>0.059541</td>\n",
       "      <td>-0.002228</td>\n",
       "      <td>0.061725</td>\n",
       "      <td>0.063195</td>\n",
       "      <td>-0.058127</td>\n",
       "      <td>0.108111</td>\n",
       "      <td>0.068986</td>\n",
       "      <td>0.127328</td>\n",
       "    </tr>\n",
       "  </tbody>\n",
       "</table>\n",
       "<p>353 rows × 10 columns</p>\n",
       "</div>"
      ],
      "text/plain": [
       "          age       sex       bmi        bp        s1        s2        s3  \\\n",
       "70  -0.001882 -0.044642 -0.069797 -0.012556 -0.000193 -0.009143  0.070730   \n",
       "37  -0.009147 -0.044642  0.011039 -0.057313 -0.024960 -0.042963  0.030232   \n",
       "170  0.023546  0.050680 -0.020218 -0.036656 -0.013953 -0.015092  0.059685   \n",
       "400 -0.023677 -0.044642  0.045529  0.090729 -0.018080 -0.035447  0.070730   \n",
       "286 -0.038207 -0.044642 -0.054707 -0.077970 -0.033216 -0.086490  0.140681   \n",
       "..        ...       ...       ...       ...       ...       ...       ...   \n",
       "299  0.038076  0.050680 -0.013751 -0.015999 -0.035968 -0.021982 -0.013948   \n",
       "22  -0.085430 -0.044642 -0.004050 -0.009113 -0.002945  0.007767  0.022869   \n",
       "72   0.063504  0.050680 -0.004050 -0.012556  0.103003  0.048790  0.056003   \n",
       "15  -0.052738  0.050680 -0.018062  0.080401  0.089244  0.107662 -0.039719   \n",
       "168  0.001751  0.050680  0.059541 -0.002228  0.061725  0.063195 -0.058127   \n",
       "\n",
       "           s4        s5        s6  \n",
       "70  -0.039493 -0.062917  0.040343  \n",
       "37  -0.039493  0.017036 -0.005220  \n",
       "170 -0.039493 -0.096435 -0.017646  \n",
       "400 -0.039493 -0.034522 -0.009362  \n",
       "286 -0.076395 -0.019198 -0.005220  \n",
       "..        ...       ...       ...  \n",
       "299 -0.002592 -0.025953 -0.001078  \n",
       "22  -0.039493 -0.061176 -0.013504  \n",
       "72  -0.002592  0.084492 -0.017646  \n",
       "15   0.108111  0.036060 -0.042499  \n",
       "168  0.108111  0.068986  0.127328  \n",
       "\n",
       "[353 rows x 10 columns]"
      ]
     },
     "execution_count": 21,
     "metadata": {},
     "output_type": "execute_result"
    }
   ],
   "source": [
    "x_train"
   ]
  },
  {
   "cell_type": "code",
   "execution_count": 22,
   "id": "6f6972a0",
   "metadata": {},
   "outputs": [
    {
     "data": {
      "text/plain": [
       "70      48.0\n",
       "37     276.0\n",
       "170     47.0\n",
       "400    175.0\n",
       "286     60.0\n",
       "       ...  \n",
       "299     83.0\n",
       "22      68.0\n",
       "72     202.0\n",
       "15     171.0\n",
       "168    268.0\n",
       "Name: TARGET, Length: 353, dtype: float64"
      ]
     },
     "execution_count": 22,
     "metadata": {},
     "output_type": "execute_result"
    }
   ],
   "source": [
    "y_train"
   ]
  },
  {
   "cell_type": "code",
   "execution_count": 23,
   "id": "79d8d141",
   "metadata": {},
   "outputs": [
    {
     "data": {
      "text/html": [
       "<div>\n",
       "<style scoped>\n",
       "    .dataframe tbody tr th:only-of-type {\n",
       "        vertical-align: middle;\n",
       "    }\n",
       "\n",
       "    .dataframe tbody tr th {\n",
       "        vertical-align: top;\n",
       "    }\n",
       "\n",
       "    .dataframe thead th {\n",
       "        text-align: right;\n",
       "    }\n",
       "</style>\n",
       "<table border=\"1\" class=\"dataframe\">\n",
       "  <thead>\n",
       "    <tr style=\"text-align: right;\">\n",
       "      <th></th>\n",
       "      <th>age</th>\n",
       "      <th>sex</th>\n",
       "      <th>bmi</th>\n",
       "      <th>bp</th>\n",
       "      <th>s1</th>\n",
       "      <th>s2</th>\n",
       "      <th>s3</th>\n",
       "      <th>s4</th>\n",
       "      <th>s5</th>\n",
       "      <th>s6</th>\n",
       "    </tr>\n",
       "  </thead>\n",
       "  <tbody>\n",
       "    <tr>\n",
       "      <th>212</th>\n",
       "      <td>0.067136</td>\n",
       "      <td>-0.044642</td>\n",
       "      <td>0.003494</td>\n",
       "      <td>0.035644</td>\n",
       "      <td>0.049341</td>\n",
       "      <td>0.031254</td>\n",
       "      <td>0.070730</td>\n",
       "      <td>-0.039493</td>\n",
       "      <td>-0.000612</td>\n",
       "      <td>0.019633</td>\n",
       "    </tr>\n",
       "    <tr>\n",
       "      <th>422</th>\n",
       "      <td>-0.078165</td>\n",
       "      <td>0.050680</td>\n",
       "      <td>0.077863</td>\n",
       "      <td>0.052858</td>\n",
       "      <td>0.078236</td>\n",
       "      <td>0.064447</td>\n",
       "      <td>0.026550</td>\n",
       "      <td>-0.002592</td>\n",
       "      <td>0.040673</td>\n",
       "      <td>-0.009362</td>\n",
       "    </tr>\n",
       "    <tr>\n",
       "      <th>67</th>\n",
       "      <td>0.041708</td>\n",
       "      <td>0.050680</td>\n",
       "      <td>-0.014828</td>\n",
       "      <td>-0.017135</td>\n",
       "      <td>-0.005697</td>\n",
       "      <td>0.008394</td>\n",
       "      <td>-0.013948</td>\n",
       "      <td>-0.001854</td>\n",
       "      <td>-0.011897</td>\n",
       "      <td>0.003064</td>\n",
       "    </tr>\n",
       "    <tr>\n",
       "      <th>89</th>\n",
       "      <td>-0.045472</td>\n",
       "      <td>-0.044642</td>\n",
       "      <td>-0.048241</td>\n",
       "      <td>-0.019442</td>\n",
       "      <td>-0.000193</td>\n",
       "      <td>-0.016032</td>\n",
       "      <td>0.067048</td>\n",
       "      <td>-0.039493</td>\n",
       "      <td>-0.024795</td>\n",
       "      <td>0.019633</td>\n",
       "    </tr>\n",
       "    <tr>\n",
       "      <th>390</th>\n",
       "      <td>0.009016</td>\n",
       "      <td>0.050680</td>\n",
       "      <td>0.069241</td>\n",
       "      <td>0.059744</td>\n",
       "      <td>0.017694</td>\n",
       "      <td>-0.023234</td>\n",
       "      <td>-0.047082</td>\n",
       "      <td>0.034309</td>\n",
       "      <td>0.103297</td>\n",
       "      <td>0.073480</td>\n",
       "    </tr>\n",
       "    <tr>\n",
       "      <th>...</th>\n",
       "      <td>...</td>\n",
       "      <td>...</td>\n",
       "      <td>...</td>\n",
       "      <td>...</td>\n",
       "      <td>...</td>\n",
       "      <td>...</td>\n",
       "      <td>...</td>\n",
       "      <td>...</td>\n",
       "      <td>...</td>\n",
       "      <td>...</td>\n",
       "    </tr>\n",
       "    <tr>\n",
       "      <th>129</th>\n",
       "      <td>0.009016</td>\n",
       "      <td>-0.044642</td>\n",
       "      <td>0.016428</td>\n",
       "      <td>0.004658</td>\n",
       "      <td>0.009439</td>\n",
       "      <td>0.010586</td>\n",
       "      <td>-0.028674</td>\n",
       "      <td>0.034309</td>\n",
       "      <td>0.038968</td>\n",
       "      <td>0.119043</td>\n",
       "    </tr>\n",
       "    <tr>\n",
       "      <th>417</th>\n",
       "      <td>-0.052738</td>\n",
       "      <td>-0.044642</td>\n",
       "      <td>0.071397</td>\n",
       "      <td>-0.074527</td>\n",
       "      <td>-0.015328</td>\n",
       "      <td>-0.001314</td>\n",
       "      <td>0.004460</td>\n",
       "      <td>-0.021412</td>\n",
       "      <td>-0.046883</td>\n",
       "      <td>0.003064</td>\n",
       "    </tr>\n",
       "    <tr>\n",
       "      <th>332</th>\n",
       "      <td>0.030811</td>\n",
       "      <td>-0.044642</td>\n",
       "      <td>0.104809</td>\n",
       "      <td>0.076958</td>\n",
       "      <td>-0.011201</td>\n",
       "      <td>-0.011335</td>\n",
       "      <td>-0.058127</td>\n",
       "      <td>0.034309</td>\n",
       "      <td>0.057108</td>\n",
       "      <td>0.036201</td>\n",
       "    </tr>\n",
       "    <tr>\n",
       "      <th>150</th>\n",
       "      <td>0.023546</td>\n",
       "      <td>-0.044642</td>\n",
       "      <td>0.070319</td>\n",
       "      <td>0.025315</td>\n",
       "      <td>-0.034592</td>\n",
       "      <td>-0.014466</td>\n",
       "      <td>-0.032356</td>\n",
       "      <td>-0.002592</td>\n",
       "      <td>-0.019198</td>\n",
       "      <td>-0.009362</td>\n",
       "    </tr>\n",
       "    <tr>\n",
       "      <th>192</th>\n",
       "      <td>0.056239</td>\n",
       "      <td>0.050680</td>\n",
       "      <td>-0.030996</td>\n",
       "      <td>0.008101</td>\n",
       "      <td>0.019070</td>\n",
       "      <td>0.021233</td>\n",
       "      <td>0.033914</td>\n",
       "      <td>-0.039493</td>\n",
       "      <td>-0.029526</td>\n",
       "      <td>-0.059067</td>\n",
       "    </tr>\n",
       "  </tbody>\n",
       "</table>\n",
       "<p>89 rows × 10 columns</p>\n",
       "</div>"
      ],
      "text/plain": [
       "          age       sex       bmi        bp        s1        s2        s3  \\\n",
       "212  0.067136 -0.044642  0.003494  0.035644  0.049341  0.031254  0.070730   \n",
       "422 -0.078165  0.050680  0.077863  0.052858  0.078236  0.064447  0.026550   \n",
       "67   0.041708  0.050680 -0.014828 -0.017135 -0.005697  0.008394 -0.013948   \n",
       "89  -0.045472 -0.044642 -0.048241 -0.019442 -0.000193 -0.016032  0.067048   \n",
       "390  0.009016  0.050680  0.069241  0.059744  0.017694 -0.023234 -0.047082   \n",
       "..        ...       ...       ...       ...       ...       ...       ...   \n",
       "129  0.009016 -0.044642  0.016428  0.004658  0.009439  0.010586 -0.028674   \n",
       "417 -0.052738 -0.044642  0.071397 -0.074527 -0.015328 -0.001314  0.004460   \n",
       "332  0.030811 -0.044642  0.104809  0.076958 -0.011201 -0.011335 -0.058127   \n",
       "150  0.023546 -0.044642  0.070319  0.025315 -0.034592 -0.014466 -0.032356   \n",
       "192  0.056239  0.050680 -0.030996  0.008101  0.019070  0.021233  0.033914   \n",
       "\n",
       "           s4        s5        s6  \n",
       "212 -0.039493 -0.000612  0.019633  \n",
       "422 -0.002592  0.040673 -0.009362  \n",
       "67  -0.001854 -0.011897  0.003064  \n",
       "89  -0.039493 -0.024795  0.019633  \n",
       "390  0.034309  0.103297  0.073480  \n",
       "..        ...       ...       ...  \n",
       "129  0.034309  0.038968  0.119043  \n",
       "417 -0.021412 -0.046883  0.003064  \n",
       "332  0.034309  0.057108  0.036201  \n",
       "150 -0.002592 -0.019198 -0.009362  \n",
       "192 -0.039493 -0.029526 -0.059067  \n",
       "\n",
       "[89 rows x 10 columns]"
      ]
     },
     "execution_count": 23,
     "metadata": {},
     "output_type": "execute_result"
    }
   ],
   "source": [
    "x_test"
   ]
  },
  {
   "cell_type": "code",
   "execution_count": 24,
   "id": "e95feb1e",
   "metadata": {},
   "outputs": [
    {
     "data": {
      "text/plain": [
       "212     73.0\n",
       "422    233.0\n",
       "67      97.0\n",
       "89     111.0\n",
       "390    277.0\n",
       "       ...  \n",
       "129    268.0\n",
       "417     55.0\n",
       "332    270.0\n",
       "150    288.0\n",
       "192     91.0\n",
       "Name: TARGET, Length: 89, dtype: float64"
      ]
     },
     "execution_count": 24,
     "metadata": {},
     "output_type": "execute_result"
    }
   ],
   "source": [
    "y_test"
   ]
  },
  {
   "cell_type": "markdown",
   "id": "679f0ea5",
   "metadata": {},
   "source": [
    "#### Creating Instance of linear Regression"
   ]
  },
  {
   "cell_type": "code",
   "execution_count": 25,
   "id": "372d430f",
   "metadata": {},
   "outputs": [
    {
     "data": {
      "text/html": [
       "<style>#sk-container-id-1 {color: black;background-color: white;}#sk-container-id-1 pre{padding: 0;}#sk-container-id-1 div.sk-toggleable {background-color: white;}#sk-container-id-1 label.sk-toggleable__label {cursor: pointer;display: block;width: 100%;margin-bottom: 0;padding: 0.3em;box-sizing: border-box;text-align: center;}#sk-container-id-1 label.sk-toggleable__label-arrow:before {content: \"▸\";float: left;margin-right: 0.25em;color: #696969;}#sk-container-id-1 label.sk-toggleable__label-arrow:hover:before {color: black;}#sk-container-id-1 div.sk-estimator:hover label.sk-toggleable__label-arrow:before {color: black;}#sk-container-id-1 div.sk-toggleable__content {max-height: 0;max-width: 0;overflow: hidden;text-align: left;background-color: #f0f8ff;}#sk-container-id-1 div.sk-toggleable__content pre {margin: 0.2em;color: black;border-radius: 0.25em;background-color: #f0f8ff;}#sk-container-id-1 input.sk-toggleable__control:checked~div.sk-toggleable__content {max-height: 200px;max-width: 100%;overflow: auto;}#sk-container-id-1 input.sk-toggleable__control:checked~label.sk-toggleable__label-arrow:before {content: \"▾\";}#sk-container-id-1 div.sk-estimator input.sk-toggleable__control:checked~label.sk-toggleable__label {background-color: #d4ebff;}#sk-container-id-1 div.sk-label input.sk-toggleable__control:checked~label.sk-toggleable__label {background-color: #d4ebff;}#sk-container-id-1 input.sk-hidden--visually {border: 0;clip: rect(1px 1px 1px 1px);clip: rect(1px, 1px, 1px, 1px);height: 1px;margin: -1px;overflow: hidden;padding: 0;position: absolute;width: 1px;}#sk-container-id-1 div.sk-estimator {font-family: monospace;background-color: #f0f8ff;border: 1px dotted black;border-radius: 0.25em;box-sizing: border-box;margin-bottom: 0.5em;}#sk-container-id-1 div.sk-estimator:hover {background-color: #d4ebff;}#sk-container-id-1 div.sk-parallel-item::after {content: \"\";width: 100%;border-bottom: 1px solid gray;flex-grow: 1;}#sk-container-id-1 div.sk-label:hover label.sk-toggleable__label {background-color: #d4ebff;}#sk-container-id-1 div.sk-serial::before {content: \"\";position: absolute;border-left: 1px solid gray;box-sizing: border-box;top: 0;bottom: 0;left: 50%;z-index: 0;}#sk-container-id-1 div.sk-serial {display: flex;flex-direction: column;align-items: center;background-color: white;padding-right: 0.2em;padding-left: 0.2em;position: relative;}#sk-container-id-1 div.sk-item {position: relative;z-index: 1;}#sk-container-id-1 div.sk-parallel {display: flex;align-items: stretch;justify-content: center;background-color: white;position: relative;}#sk-container-id-1 div.sk-item::before, #sk-container-id-1 div.sk-parallel-item::before {content: \"\";position: absolute;border-left: 1px solid gray;box-sizing: border-box;top: 0;bottom: 0;left: 50%;z-index: -1;}#sk-container-id-1 div.sk-parallel-item {display: flex;flex-direction: column;z-index: 1;position: relative;background-color: white;}#sk-container-id-1 div.sk-parallel-item:first-child::after {align-self: flex-end;width: 50%;}#sk-container-id-1 div.sk-parallel-item:last-child::after {align-self: flex-start;width: 50%;}#sk-container-id-1 div.sk-parallel-item:only-child::after {width: 0;}#sk-container-id-1 div.sk-dashed-wrapped {border: 1px dashed gray;margin: 0 0.4em 0.5em 0.4em;box-sizing: border-box;padding-bottom: 0.4em;background-color: white;}#sk-container-id-1 div.sk-label label {font-family: monospace;font-weight: bold;display: inline-block;line-height: 1.2em;}#sk-container-id-1 div.sk-label-container {text-align: center;}#sk-container-id-1 div.sk-container {/* jupyter's `normalize.less` sets `[hidden] { display: none; }` but bootstrap.min.css set `[hidden] { display: none !important; }` so we also need the `!important` here to be able to override the default hidden behavior on the sphinx rendered scikit-learn.org. See: https://github.com/scikit-learn/scikit-learn/issues/21755 */display: inline-block !important;position: relative;}#sk-container-id-1 div.sk-text-repr-fallback {display: none;}</style><div id=\"sk-container-id-1\" class=\"sk-top-container\"><div class=\"sk-text-repr-fallback\"><pre>LinearRegression()</pre><b>In a Jupyter environment, please rerun this cell to show the HTML representation or trust the notebook. <br />On GitHub, the HTML representation is unable to render, please try loading this page with nbviewer.org.</b></div><div class=\"sk-container\" hidden><div class=\"sk-item\"><div class=\"sk-estimator sk-toggleable\"><input class=\"sk-toggleable__control sk-hidden--visually\" id=\"sk-estimator-id-1\" type=\"checkbox\" checked><label for=\"sk-estimator-id-1\" class=\"sk-toggleable__label sk-toggleable__label-arrow\">LinearRegression</label><div class=\"sk-toggleable__content\"><pre>LinearRegression()</pre></div></div></div></div></div>"
      ],
      "text/plain": [
       "LinearRegression()"
      ]
     },
     "execution_count": 25,
     "metadata": {},
     "output_type": "execute_result"
    }
   ],
   "source": [
    "linear_reg = LinearRegression()\n",
    "linear_reg"
   ]
  },
  {
   "cell_type": "code",
   "execution_count": 26,
   "id": "147da2b5",
   "metadata": {},
   "outputs": [
    {
     "data": {
      "text/html": [
       "<style>#sk-container-id-2 {color: black;background-color: white;}#sk-container-id-2 pre{padding: 0;}#sk-container-id-2 div.sk-toggleable {background-color: white;}#sk-container-id-2 label.sk-toggleable__label {cursor: pointer;display: block;width: 100%;margin-bottom: 0;padding: 0.3em;box-sizing: border-box;text-align: center;}#sk-container-id-2 label.sk-toggleable__label-arrow:before {content: \"▸\";float: left;margin-right: 0.25em;color: #696969;}#sk-container-id-2 label.sk-toggleable__label-arrow:hover:before {color: black;}#sk-container-id-2 div.sk-estimator:hover label.sk-toggleable__label-arrow:before {color: black;}#sk-container-id-2 div.sk-toggleable__content {max-height: 0;max-width: 0;overflow: hidden;text-align: left;background-color: #f0f8ff;}#sk-container-id-2 div.sk-toggleable__content pre {margin: 0.2em;color: black;border-radius: 0.25em;background-color: #f0f8ff;}#sk-container-id-2 input.sk-toggleable__control:checked~div.sk-toggleable__content {max-height: 200px;max-width: 100%;overflow: auto;}#sk-container-id-2 input.sk-toggleable__control:checked~label.sk-toggleable__label-arrow:before {content: \"▾\";}#sk-container-id-2 div.sk-estimator input.sk-toggleable__control:checked~label.sk-toggleable__label {background-color: #d4ebff;}#sk-container-id-2 div.sk-label input.sk-toggleable__control:checked~label.sk-toggleable__label {background-color: #d4ebff;}#sk-container-id-2 input.sk-hidden--visually {border: 0;clip: rect(1px 1px 1px 1px);clip: rect(1px, 1px, 1px, 1px);height: 1px;margin: -1px;overflow: hidden;padding: 0;position: absolute;width: 1px;}#sk-container-id-2 div.sk-estimator {font-family: monospace;background-color: #f0f8ff;border: 1px dotted black;border-radius: 0.25em;box-sizing: border-box;margin-bottom: 0.5em;}#sk-container-id-2 div.sk-estimator:hover {background-color: #d4ebff;}#sk-container-id-2 div.sk-parallel-item::after {content: \"\";width: 100%;border-bottom: 1px solid gray;flex-grow: 1;}#sk-container-id-2 div.sk-label:hover label.sk-toggleable__label {background-color: #d4ebff;}#sk-container-id-2 div.sk-serial::before {content: \"\";position: absolute;border-left: 1px solid gray;box-sizing: border-box;top: 0;bottom: 0;left: 50%;z-index: 0;}#sk-container-id-2 div.sk-serial {display: flex;flex-direction: column;align-items: center;background-color: white;padding-right: 0.2em;padding-left: 0.2em;position: relative;}#sk-container-id-2 div.sk-item {position: relative;z-index: 1;}#sk-container-id-2 div.sk-parallel {display: flex;align-items: stretch;justify-content: center;background-color: white;position: relative;}#sk-container-id-2 div.sk-item::before, #sk-container-id-2 div.sk-parallel-item::before {content: \"\";position: absolute;border-left: 1px solid gray;box-sizing: border-box;top: 0;bottom: 0;left: 50%;z-index: -1;}#sk-container-id-2 div.sk-parallel-item {display: flex;flex-direction: column;z-index: 1;position: relative;background-color: white;}#sk-container-id-2 div.sk-parallel-item:first-child::after {align-self: flex-end;width: 50%;}#sk-container-id-2 div.sk-parallel-item:last-child::after {align-self: flex-start;width: 50%;}#sk-container-id-2 div.sk-parallel-item:only-child::after {width: 0;}#sk-container-id-2 div.sk-dashed-wrapped {border: 1px dashed gray;margin: 0 0.4em 0.5em 0.4em;box-sizing: border-box;padding-bottom: 0.4em;background-color: white;}#sk-container-id-2 div.sk-label label {font-family: monospace;font-weight: bold;display: inline-block;line-height: 1.2em;}#sk-container-id-2 div.sk-label-container {text-align: center;}#sk-container-id-2 div.sk-container {/* jupyter's `normalize.less` sets `[hidden] { display: none; }` but bootstrap.min.css set `[hidden] { display: none !important; }` so we also need the `!important` here to be able to override the default hidden behavior on the sphinx rendered scikit-learn.org. See: https://github.com/scikit-learn/scikit-learn/issues/21755 */display: inline-block !important;position: relative;}#sk-container-id-2 div.sk-text-repr-fallback {display: none;}</style><div id=\"sk-container-id-2\" class=\"sk-top-container\"><div class=\"sk-text-repr-fallback\"><pre>LinearRegression()</pre><b>In a Jupyter environment, please rerun this cell to show the HTML representation or trust the notebook. <br />On GitHub, the HTML representation is unable to render, please try loading this page with nbviewer.org.</b></div><div class=\"sk-container\" hidden><div class=\"sk-item\"><div class=\"sk-estimator sk-toggleable\"><input class=\"sk-toggleable__control sk-hidden--visually\" id=\"sk-estimator-id-2\" type=\"checkbox\" checked><label for=\"sk-estimator-id-2\" class=\"sk-toggleable__label sk-toggleable__label-arrow\">LinearRegression</label><div class=\"sk-toggleable__content\"><pre>LinearRegression()</pre></div></div></div></div></div>"
      ],
      "text/plain": [
       "LinearRegression()"
      ]
     },
     "execution_count": 26,
     "metadata": {},
     "output_type": "execute_result"
    }
   ],
   "source": [
    "linear_reg.fit(x_train,y_train)"
   ]
  },
  {
   "cell_type": "code",
   "execution_count": 27,
   "id": "c11cc552",
   "metadata": {},
   "outputs": [
    {
     "data": {
      "text/plain": [
       "array([  -9.15865318, -205.45432163,  516.69374454,  340.61999905,\n",
       "       -895.5520019 ,  561.22067904,  153.89310954,  126.73139688,\n",
       "        861.12700152,   52.42112238])"
      ]
     },
     "execution_count": 27,
     "metadata": {},
     "output_type": "execute_result"
    }
   ],
   "source": [
    "linear_reg.coef_"
   ]
  },
  {
   "cell_type": "code",
   "execution_count": 28,
   "id": "4fa43ce6",
   "metadata": {},
   "outputs": [
    {
     "data": {
      "text/plain": [
       "array([  -9.16, -205.45,  516.69,  340.62, -895.55,  561.22,  153.89,\n",
       "        126.73,  861.13,   52.42])"
      ]
     },
     "execution_count": 28,
     "metadata": {},
     "output_type": "execute_result"
    }
   ],
   "source": [
    "np.around(linear_reg.coef_,2)"
   ]
  },
  {
   "cell_type": "code",
   "execution_count": 29,
   "id": "e628585c",
   "metadata": {},
   "outputs": [
    {
     "data": {
      "text/plain": [
       "151.88331005254165"
      ]
     },
     "execution_count": 29,
     "metadata": {},
     "output_type": "execute_result"
    }
   ],
   "source": [
    "linear_reg.intercept_"
   ]
  },
  {
   "cell_type": "code",
   "execution_count": 30,
   "id": "e21a9832",
   "metadata": {},
   "outputs": [
    {
     "data": {
      "text/plain": [
       "151.9"
      ]
     },
     "execution_count": 30,
     "metadata": {},
     "output_type": "execute_result"
    }
   ],
   "source": [
    "np.around(linear_reg.intercept_,1)"
   ]
  },
  {
   "cell_type": "markdown",
   "id": "662bac42",
   "metadata": {},
   "source": [
    "#### 7.Model Evaluation"
   ]
  },
  {
   "cell_type": "markdown",
   "id": "2182afda",
   "metadata": {},
   "source": [
    "##### 1.Testing Data Evaluation"
   ]
  },
  {
   "cell_type": "code",
   "execution_count": 31,
   "id": "15c9cc9c",
   "metadata": {},
   "outputs": [
    {
     "name": "stdout",
     "output_type": "stream",
     "text": [
      "Mean Squared Error is : 3094.456671566064\n",
      "Root Mean Squared Error is : 55.62784079546917\n",
      " Mean absolute Error is : 45.21303419046903\n",
      " R_Square value is : 0.43993386615689656\n",
      "Adjusted R_Square value is : 0.36813051566419097\n"
     ]
    }
   ],
   "source": [
    "y_pred = linear_reg.predict(x_test)\n",
    "\n",
    "mse = mean_squared_error(y_test,y_pred)\n",
    "print(\"Mean Squared Error is :\",mse)\n",
    "\n",
    "rmse = np.sqrt(mse)\n",
    "print(\"Root Mean Squared Error is :\",rmse)\n",
    "\n",
    "mae = mean_absolute_error(y_test,y_pred)\n",
    "print(\" Mean absolute Error is :\",mae)\n",
    "\n",
    "r2_value = r2_score(y_test,y_pred)\n",
    "print(\" R_Square value is :\",r2_value)\n",
    "\n",
    "n = x_test.shape[0]\n",
    "k = x_test.shape[1]\n",
    "adj_r1 = 1-((1-r2_value)*(n-1)/(n-k-1))\n",
    "print(\"Adjusted R_Square value is :\",adj_r1)\n"
   ]
  },
  {
   "cell_type": "markdown",
   "id": "72d758c6",
   "metadata": {},
   "source": [
    "##### 2.1.Training Data Evaluation"
   ]
  },
  {
   "cell_type": "code",
   "execution_count": 32,
   "id": "e3e5d776",
   "metadata": {},
   "outputs": [
    {
     "name": "stdout",
     "output_type": "stream",
     "text": [
      "Mean Squared Error is : 2814.21359234292\n",
      "Root Mean Squared Error is : 53.04916203242913\n",
      " Mean absolute Error is : 42.91623353136605\n",
      " R_Square value is : 0.5323672232993288\n",
      "Adjusted R_Square value is : 0.5186937502963852\n"
     ]
    }
   ],
   "source": [
    "y_pred_train  = linear_reg.predict(x_train)\n",
    "\n",
    "mse = mean_squared_error(y_train,y_pred_train)\n",
    "print(\"Mean Squared Error is :\",mse)\n",
    "\n",
    "rmse = np.sqrt(mse)\n",
    "print(\"Root Mean Squared Error is :\",rmse)\n",
    "\n",
    "mae = mean_absolute_error(y_train,y_pred_train)\n",
    "print(\" Mean absolute Error is :\",mae)\n",
    "\n",
    "r2_value = r2_score(y_train,y_pred_train)\n",
    "print(\" R_Square value is :\",r2_value)\n",
    "\n",
    "n = x_train.shape[0]\n",
    "k = x_train.shape[1]\n",
    "adj_r1 = 1-((1-r2_value)*(n-1)/(n-k-1))\n",
    "print(\"Adjusted R_Square value is :\",adj_r1)"
   ]
  },
  {
   "cell_type": "code",
   "execution_count": 33,
   "id": "624ee2e2",
   "metadata": {},
   "outputs": [],
   "source": [
    "r_squared_list = []\n",
    "adj_r2_list = []\n",
    "for i in range(1,x_train.shape[1]+1):\n",
    "    linear_reg_model = LinearRegression()\n",
    "    linear_reg_model.fit(x_train.iloc[:,:i],y_train)\n",
    "    r2_value = linear_reg_model.score(x_train.iloc[:,:i],y_train)\n",
    "    r_squared_list.append(r2_value)\n",
    "    \n",
    "    n = x_train.shape[0]\n",
    "    k = i\n",
    "    adj_r2 = 1-((1-r2_value)*(n-1))/(n-k-1)\n",
    "    adj_r2_list.append(adj_r2)"
   ]
  },
  {
   "cell_type": "code",
   "execution_count": 34,
   "id": "39c5b28e",
   "metadata": {},
   "outputs": [
    {
     "data": {
      "text/plain": [
       "[0.05052807494551559,\n",
       " 0.05074264054632849,\n",
       " 0.362565189327153,\n",
       " 0.40995707769352907,\n",
       " 0.4106099133023613,\n",
       " 0.4155038123129504,\n",
       " 0.5022810103661832,\n",
       " 0.5025803294254669,\n",
       " 0.5316915603267744,\n",
       " 0.5323672232993288]"
      ]
     },
     "execution_count": 34,
     "metadata": {},
     "output_type": "execute_result"
    }
   ],
   "source": [
    "r_squared_list"
   ]
  },
  {
   "cell_type": "code",
   "execution_count": 35,
   "id": "6429b557",
   "metadata": {},
   "outputs": [
    {
     "data": {
      "text/plain": [
       "[0.04782302672598715,\n",
       " 0.045318312778021785,\n",
       " 0.35708580700045234,\n",
       " 0.40317497513828227,\n",
       " 0.40211726075628584,\n",
       " 0.4053680402721346,\n",
       " 0.49218236419969996,\n",
       " 0.49101243010978013,\n",
       " 0.5194035837755819,\n",
       " 0.5186937502963852]"
      ]
     },
     "execution_count": 35,
     "metadata": {},
     "output_type": "execute_result"
    }
   ],
   "source": [
    "adj_r2_list"
   ]
  },
  {
   "cell_type": "code",
   "execution_count": 36,
   "id": "89681420",
   "metadata": {},
   "outputs": [
    {
     "data": {
      "text/plain": [
       "age       0.224785\n",
       "sex       0.053885\n",
       "bmi       0.594592\n",
       "bp        0.459661\n",
       "s1        0.218839\n",
       "s2        0.175718\n",
       "s3       -0.382782\n",
       "s4        0.421328\n",
       "s5        0.582935\n",
       "s6        0.367692\n",
       "TARGET    1.000000\n",
       "Name: TARGET, dtype: float64"
      ]
     },
     "execution_count": 36,
     "metadata": {},
     "output_type": "execute_result"
    }
   ],
   "source": [
    "new_x_train = x_train.copy()\n",
    "new_x_train['TARGET'] = y_train\n",
    "new_x_train.corr()['TARGET']"
   ]
  },
  {
   "cell_type": "code",
   "execution_count": 37,
   "id": "d7fefc35",
   "metadata": {},
   "outputs": [
    {
     "data": {
      "text/html": [
       "<div>\n",
       "<style scoped>\n",
       "    .dataframe tbody tr th:only-of-type {\n",
       "        vertical-align: middle;\n",
       "    }\n",
       "\n",
       "    .dataframe tbody tr th {\n",
       "        vertical-align: top;\n",
       "    }\n",
       "\n",
       "    .dataframe thead th {\n",
       "        text-align: right;\n",
       "    }\n",
       "</style>\n",
       "<table border=\"1\" class=\"dataframe\">\n",
       "  <thead>\n",
       "    <tr style=\"text-align: right;\">\n",
       "      <th></th>\n",
       "      <th>Correlation</th>\n",
       "      <th>R_Squared</th>\n",
       "      <th>Adj R_Squared</th>\n",
       "    </tr>\n",
       "  </thead>\n",
       "  <tbody>\n",
       "    <tr>\n",
       "      <th>age</th>\n",
       "      <td>0.224785</td>\n",
       "      <td>0.050528</td>\n",
       "      <td>0.047823</td>\n",
       "    </tr>\n",
       "    <tr>\n",
       "      <th>sex</th>\n",
       "      <td>0.053885</td>\n",
       "      <td>0.050743</td>\n",
       "      <td>0.045318</td>\n",
       "    </tr>\n",
       "    <tr>\n",
       "      <th>bmi</th>\n",
       "      <td>0.594592</td>\n",
       "      <td>0.362565</td>\n",
       "      <td>0.357086</td>\n",
       "    </tr>\n",
       "    <tr>\n",
       "      <th>bp</th>\n",
       "      <td>0.459661</td>\n",
       "      <td>0.409957</td>\n",
       "      <td>0.403175</td>\n",
       "    </tr>\n",
       "    <tr>\n",
       "      <th>s1</th>\n",
       "      <td>0.218839</td>\n",
       "      <td>0.410610</td>\n",
       "      <td>0.402117</td>\n",
       "    </tr>\n",
       "    <tr>\n",
       "      <th>s2</th>\n",
       "      <td>0.175718</td>\n",
       "      <td>0.415504</td>\n",
       "      <td>0.405368</td>\n",
       "    </tr>\n",
       "    <tr>\n",
       "      <th>s3</th>\n",
       "      <td>-0.382782</td>\n",
       "      <td>0.502281</td>\n",
       "      <td>0.492182</td>\n",
       "    </tr>\n",
       "    <tr>\n",
       "      <th>s4</th>\n",
       "      <td>0.421328</td>\n",
       "      <td>0.502580</td>\n",
       "      <td>0.491012</td>\n",
       "    </tr>\n",
       "    <tr>\n",
       "      <th>s5</th>\n",
       "      <td>0.582935</td>\n",
       "      <td>0.531692</td>\n",
       "      <td>0.519404</td>\n",
       "    </tr>\n",
       "    <tr>\n",
       "      <th>s6</th>\n",
       "      <td>0.367692</td>\n",
       "      <td>0.532367</td>\n",
       "      <td>0.518694</td>\n",
       "    </tr>\n",
       "  </tbody>\n",
       "</table>\n",
       "</div>"
      ],
      "text/plain": [
       "     Correlation  R_Squared  Adj R_Squared\n",
       "age     0.224785   0.050528       0.047823\n",
       "sex     0.053885   0.050743       0.045318\n",
       "bmi     0.594592   0.362565       0.357086\n",
       "bp      0.459661   0.409957       0.403175\n",
       "s1      0.218839   0.410610       0.402117\n",
       "s2      0.175718   0.415504       0.405368\n",
       "s3     -0.382782   0.502281       0.492182\n",
       "s4      0.421328   0.502580       0.491012\n",
       "s5      0.582935   0.531692       0.519404\n",
       "s6      0.367692   0.532367       0.518694"
      ]
     },
     "execution_count": 37,
     "metadata": {},
     "output_type": "execute_result"
    }
   ],
   "source": [
    "r2_data = {'Correlation':new_x_train.corr()['TARGET'],\n",
    "           'R_Squared':r_squared_list,\n",
    "       'Adj R_Squared':adj_r2_list\n",
    "           }\n",
    "r2_df = pd.DataFrame(r2_data, index = x_train.columns)\n",
    "r2_df"
   ]
  },
  {
   "cell_type": "markdown",
   "id": "b7022daf",
   "metadata": {},
   "source": [
    "#### Assumptions"
   ]
  },
  {
   "cell_type": "markdown",
   "id": "3ee4f70d",
   "metadata": {},
   "source": [
    "##### 1.Normality of Residual"
   ]
  },
  {
   "cell_type": "code",
   "execution_count": 38,
   "id": "5dfa7825",
   "metadata": {},
   "outputs": [
    {
     "data": {
      "text/plain": [
       "70     -21.588948\n",
       "37     116.393681\n",
       "170      4.439502\n",
       "400    -12.660502\n",
       "286    -22.948545\n",
       "          ...    \n",
       "299    -40.561743\n",
       "22     -40.763421\n",
       "72      52.220538\n",
       "15      -5.920235\n",
       "168     45.515403\n",
       "Name: TARGET, Length: 353, dtype: float64"
      ]
     },
     "execution_count": 38,
     "metadata": {},
     "output_type": "execute_result"
    }
   ],
   "source": [
    "residual = y_train - y_pred_train\n",
    "residual"
   ]
  },
  {
   "cell_type": "markdown",
   "id": "9424b768",
   "metadata": {},
   "source": [
    "##### Checking Normality of residual"
   ]
  },
  {
   "cell_type": "markdown",
   "id": "7bc3488d",
   "metadata": {},
   "source": [
    "##### 1.kdeplot"
   ]
  },
  {
   "cell_type": "code",
   "execution_count": 39,
   "id": "4219b19f",
   "metadata": {},
   "outputs": [
    {
     "data": {
      "text/plain": [
       "<Axes: xlabel='TARGET', ylabel='Density'>"
      ]
     },
     "execution_count": 39,
     "metadata": {},
     "output_type": "execute_result"
    },
    {
     "data": {
      "image/png": "[encoded data removed]",
      "text/plain": [
       "<Figure size 640x480 with 1 Axes>"
      ]
     },
     "metadata": {},
     "output_type": "display_data"
    }
   ],
   "source": [
    "sns.kdeplot(residual,fill = True)"
   ]
  },
  {
   "cell_type": "markdown",
   "id": "2e5dc2eb",
   "metadata": {},
   "source": [
    "##### 2.Histplot"
   ]
  },
  {
   "cell_type": "code",
   "execution_count": 40,
   "id": "fde5e95a",
   "metadata": {},
   "outputs": [
    {
     "data": {
      "text/plain": [
       "<Axes: xlabel='TARGET', ylabel='Count'>"
      ]
     },
     "execution_count": 40,
     "metadata": {},
     "output_type": "execute_result"
    },
    {
     "data": {
      "image/png": "[encoded data removed]",
      "text/plain": [
       "<Figure size 640x480 with 1 Axes>"
      ]
     },
     "metadata": {},
     "output_type": "display_data"
    }
   ],
   "source": [
    "sns.histplot(residual)"
   ]
  },
  {
   "cell_type": "code",
   "execution_count": 41,
   "id": "cd26152b",
   "metadata": {},
   "outputs": [
    {
     "data": {
      "text/plain": [
       "<Axes: xlabel='TARGET', ylabel='Count'>"
      ]
     },
     "execution_count": 41,
     "metadata": {},
     "output_type": "execute_result"
    },
    {
     "data": {
      "image/png": "[encoded data removed]",
      "text/plain": [
       "<Figure size 640x480 with 1 Axes>"
      ]
     },
     "metadata": {},
     "output_type": "display_data"
    }
   ],
   "source": [
    "sns.histplot(residual,kde = True)"
   ]
  },
  {
   "cell_type": "markdown",
   "id": "c70d0202",
   "metadata": {},
   "source": [
    "##### 3.Distplot"
   ]
  },
  {
   "cell_type": "code",
   "execution_count": 42,
   "id": "1dbfa098",
   "metadata": {},
   "outputs": [
    {
     "data": {
      "text/plain": [
       "<Axes: xlabel='TARGET', ylabel='Density'>"
      ]
     },
     "execution_count": 42,
     "metadata": {},
     "output_type": "execute_result"
    },
    {
     "data": {
      "image/png": "[encoded data removed]",
      "text/plain": [
       "<Figure size 640x480 with 1 Axes>"
      ]
     },
     "metadata": {},
     "output_type": "display_data"
    }
   ],
   "source": [
    "sns.distplot(residual)"
   ]
  },
  {
   "cell_type": "markdown",
   "id": "9c256154",
   "metadata": {},
   "source": [
    "##### 2.QQ Plot"
   ]
  },
  {
   "cell_type": "code",
   "execution_count": 43,
   "id": "2503931b",
   "metadata": {},
   "outputs": [],
   "source": [
    "import statsmodels.api as sm"
   ]
  },
  {
   "cell_type": "code",
   "execution_count": 44,
   "id": "1bfc0957",
   "metadata": {},
   "outputs": [
    {
     "data": {
      "image/png": "[encoded data removed]",
      "text/plain": [
       "<Figure size 640x480 with 1 Axes>"
      ]
     },
     "execution_count": 44,
     "metadata": {},
     "output_type": "execute_result"
    },
    {
     "data": {
      "image/png": "[encoded data removed]",
      "text/plain": [
       "<Figure size 640x480 with 1 Axes>"
      ]
     },
     "metadata": {},
     "output_type": "display_data"
    }
   ],
   "source": [
    "sm.qqplot(residual,line = \"45\",fit = True)"
   ]
  },
  {
   "cell_type": "markdown",
   "id": "95f29709",
   "metadata": {},
   "source": [
    "##### 3.Hypothesis testing"
   ]
  },
  {
   "cell_type": "markdown",
   "id": "3297aeca",
   "metadata": {},
   "source": [
    "##### 1.shapiro testing"
   ]
  },
  {
   "cell_type": "code",
   "execution_count": 45,
   "id": "90b5a194",
   "metadata": {},
   "outputs": [],
   "source": [
    "from scipy.stats import shapiro"
   ]
  },
  {
   "cell_type": "code",
   "execution_count": 46,
   "id": "4b256bfc",
   "metadata": {},
   "outputs": [
    {
     "name": "stdout",
     "output_type": "stream",
     "text": [
      "0.9967445731163025\n",
      "0.6996665000915527\n"
     ]
    }
   ],
   "source": [
    "stats,p_val = shapiro(residual)\n",
    "print(stats)\n",
    "print(p_val)"
   ]
  },
  {
   "cell_type": "code",
   "execution_count": 47,
   "id": "b6d10cc2",
   "metadata": {},
   "outputs": [
    {
     "name": "stdout",
     "output_type": "stream",
     "text": [
      "P Value is : 0.6996665000915527\n",
      "Data is normally distributed\n",
      "Null hypothesis is true\n"
     ]
    }
   ],
   "source": [
    "_,p_val = shapiro(residual)\n",
    "print('P Value is :',p_val)\n",
    "\n",
    "if p_val >= 0.05:\n",
    "    print('Data is normally distributed')\n",
    "    print('Null hypothesis is true')\n",
    "else:\n",
    "    print('Data is not normally distributed')\n",
    "    print('Alternate hypothesis is true')"
   ]
  },
  {
   "cell_type": "markdown",
   "id": "b5205f79",
   "metadata": {},
   "source": [
    "##### 2.ks test"
   ]
  },
  {
   "cell_type": "code",
   "execution_count": 48,
   "id": "f298c2f2",
   "metadata": {},
   "outputs": [],
   "source": [
    "from scipy.stats import kstest"
   ]
  },
  {
   "cell_type": "code",
   "execution_count": 49,
   "id": "d76b37d0",
   "metadata": {},
   "outputs": [
    {
     "data": {
      "text/plain": [
       "70     -21.588948\n",
       "37     116.393681\n",
       "170      4.439502\n",
       "400    -12.660502\n",
       "286    -22.948545\n",
       "          ...    \n",
       "299    -40.561743\n",
       "22     -40.763421\n",
       "72      52.220538\n",
       "15      -5.920235\n",
       "168     45.515403\n",
       "Name: TARGET, Length: 353, dtype: float64"
      ]
     },
     "execution_count": 49,
     "metadata": {},
     "output_type": "execute_result"
    }
   ],
   "source": [
    "residual = y_train - y_pred_train\n",
    "residual"
   ]
  },
  {
   "cell_type": "code",
   "execution_count": 50,
   "id": "d9a6c432",
   "metadata": {},
   "outputs": [
    {
     "name": "stdout",
     "output_type": "stream",
     "text": [
      "P Value is : 1.8936020842137222e-79\n",
      "Data is not normally distributed\n",
      "Alternate hypothesis is true\n"
     ]
    }
   ],
   "source": [
    "_,p_val = kstest(residual,'norm')\n",
    "print('P Value is :',p_val)\n",
    "\n",
    "if p_val >= 0.05:\n",
    "    print('Data is normally distributed')\n",
    "    print('Null hypothesis is true')\n",
    "else:\n",
    "    print('Data is not normally distributed')\n",
    "    print('Alternate hypothesis is true')"
   ]
  },
  {
   "cell_type": "markdown",
   "id": "20888f68",
   "metadata": {},
   "source": [
    "#### 3.Normal test"
   ]
  },
  {
   "cell_type": "code",
   "execution_count": 51,
   "id": "19313cbb",
   "metadata": {},
   "outputs": [],
   "source": [
    "from scipy.stats import normaltest"
   ]
  },
  {
   "cell_type": "code",
   "execution_count": 52,
   "id": "e95743ca",
   "metadata": {},
   "outputs": [
    {
     "name": "stdout",
     "output_type": "stream",
     "text": [
      "P Value is : 0.7482066883014913\n",
      "Data is normally distributed\n",
      "NULL Hypothesis is True\n"
     ]
    }
   ],
   "source": [
    "_, p_val = normaltest(residual)\n",
    "print(\"P Value is :\", p_val)\n",
    "\n",
    "if p_val >= 0.05:\n",
    "    print(\"Data is normally distributed\")\n",
    "    print(\"NULL Hypothesis is True\")\n",
    "    \n",
    "else:\n",
    "    print(\"Data is not normally distributed\")\n",
    "    print(\"Alternate Hypothesis is True\")"
   ]
  },
  {
   "cell_type": "markdown",
   "id": "59890683",
   "metadata": {},
   "source": [
    "##### 4.Skewness"
   ]
  },
  {
   "cell_type": "code",
   "execution_count": 53,
   "id": "a476e43e",
   "metadata": {},
   "outputs": [],
   "source": [
    "from scipy.stats import skew"
   ]
  },
  {
   "cell_type": "code",
   "execution_count": 54,
   "id": "e221035e",
   "metadata": {},
   "outputs": [
    {
     "name": "stdout",
     "output_type": "stream",
     "text": [
      "Mean     : 1.5619862973083223e-14\n",
      "Median   : -1.1315728102854905\n",
      "Skewness : -0.03812071096968221\n",
      "Skewness : -0.03795853336407959\n"
     ]
    },
    {
     "data": {
      "image/png": "[encoded data removed]",
      "text/plain": [
       "<Figure size 640x480 with 1 Axes>"
      ]
     },
     "metadata": {},
     "output_type": "display_data"
    }
   ],
   "source": [
    "sns.kdeplot(residual)\n",
    "s1 = residual\n",
    "print('Mean     :',s1.mean())\n",
    "print('Median   :',s1.median())\n",
    "print('Skewness :',s1.skew())\n",
    "print('Skewness :',skew(s1))"
   ]
  },
  {
   "cell_type": "markdown",
   "id": "1344172e",
   "metadata": {},
   "source": [
    "#### 4 .Homoscedascticity"
   ]
  },
  {
   "cell_type": "code",
   "execution_count": 55,
   "id": "6705e692",
   "metadata": {},
   "outputs": [
    {
     "data": {
      "text/plain": [
       "70      48.0\n",
       "37     276.0\n",
       "170     47.0\n",
       "400    175.0\n",
       "286     60.0\n",
       "       ...  \n",
       "299     83.0\n",
       "22      68.0\n",
       "72     202.0\n",
       "15     171.0\n",
       "168    268.0\n",
       "Name: TARGET, Length: 353, dtype: float64"
      ]
     },
     "execution_count": 55,
     "metadata": {},
     "output_type": "execute_result"
    }
   ],
   "source": [
    "y_train"
   ]
  },
  {
   "cell_type": "code",
   "execution_count": 56,
   "id": "e06302fa",
   "metadata": {},
   "outputs": [
    {
     "data": {
      "text/plain": [
       "70     -21.588948\n",
       "37     116.393681\n",
       "170      4.439502\n",
       "400    -12.660502\n",
       "286    -22.948545\n",
       "          ...    \n",
       "299    -40.561743\n",
       "22     -40.763421\n",
       "72      52.220538\n",
       "15      -5.920235\n",
       "168     45.515403\n",
       "Name: TARGET, Length: 353, dtype: float64"
      ]
     },
     "execution_count": 56,
     "metadata": {},
     "output_type": "execute_result"
    }
   ],
   "source": [
    "y_pred_train\n",
    "residual_train = y_train-y_pred_train\n",
    "residual"
   ]
  },
  {
   "cell_type": "code",
   "execution_count": 57,
   "id": "cac1ffce",
   "metadata": {},
   "outputs": [
    {
     "data": {
      "image/png": "[encoded data removed]",
      "text/plain": [
       "<Figure size 700x500 with 1 Axes>"
      ]
     },
     "metadata": {},
     "output_type": "display_data"
    }
   ],
   "source": [
    "plt.figure(figsize = (7,5))\n",
    "sns.scatterplot(x = y_train, y = residual_train)\n",
    "plt.xlabel('Y Actual')\n",
    "plt.ylabel(\"Residal\")\n",
    "plt.title(\"Yactual Vs Residual Plot\")\n",
    "plt.savefig('Homoscedasticity.png')"
   ]
  },
  {
   "cell_type": "markdown",
   "id": "f09c26c2",
   "metadata": {},
   "source": [
    "#### Single Row Testing"
   ]
  },
  {
   "cell_type": "code",
   "execution_count": 58,
   "id": "da561787",
   "metadata": {},
   "outputs": [
    {
     "data": {
      "text/html": [
       "<div>\n",
       "<style scoped>\n",
       "    .dataframe tbody tr th:only-of-type {\n",
       "        vertical-align: middle;\n",
       "    }\n",
       "\n",
       "    .dataframe tbody tr th {\n",
       "        vertical-align: top;\n",
       "    }\n",
       "\n",
       "    .dataframe thead th {\n",
       "        text-align: right;\n",
       "    }\n",
       "</style>\n",
       "<table border=\"1\" class=\"dataframe\">\n",
       "  <thead>\n",
       "    <tr style=\"text-align: right;\">\n",
       "      <th></th>\n",
       "      <th>age</th>\n",
       "      <th>sex</th>\n",
       "      <th>bmi</th>\n",
       "      <th>bp</th>\n",
       "      <th>s1</th>\n",
       "      <th>s2</th>\n",
       "      <th>s3</th>\n",
       "      <th>s4</th>\n",
       "      <th>s5</th>\n",
       "      <th>s6</th>\n",
       "    </tr>\n",
       "  </thead>\n",
       "  <tbody>\n",
       "    <tr>\n",
       "      <th>212</th>\n",
       "      <td>0.067136</td>\n",
       "      <td>-0.044642</td>\n",
       "      <td>0.003494</td>\n",
       "      <td>0.035644</td>\n",
       "      <td>0.049341</td>\n",
       "      <td>0.031254</td>\n",
       "      <td>0.070730</td>\n",
       "      <td>-0.039493</td>\n",
       "      <td>-0.000612</td>\n",
       "      <td>0.019633</td>\n",
       "    </tr>\n",
       "    <tr>\n",
       "      <th>422</th>\n",
       "      <td>-0.078165</td>\n",
       "      <td>0.050680</td>\n",
       "      <td>0.077863</td>\n",
       "      <td>0.052858</td>\n",
       "      <td>0.078236</td>\n",
       "      <td>0.064447</td>\n",
       "      <td>0.026550</td>\n",
       "      <td>-0.002592</td>\n",
       "      <td>0.040673</td>\n",
       "      <td>-0.009362</td>\n",
       "    </tr>\n",
       "    <tr>\n",
       "      <th>67</th>\n",
       "      <td>0.041708</td>\n",
       "      <td>0.050680</td>\n",
       "      <td>-0.014828</td>\n",
       "      <td>-0.017135</td>\n",
       "      <td>-0.005697</td>\n",
       "      <td>0.008394</td>\n",
       "      <td>-0.013948</td>\n",
       "      <td>-0.001854</td>\n",
       "      <td>-0.011897</td>\n",
       "      <td>0.003064</td>\n",
       "    </tr>\n",
       "    <tr>\n",
       "      <th>89</th>\n",
       "      <td>-0.045472</td>\n",
       "      <td>-0.044642</td>\n",
       "      <td>-0.048241</td>\n",
       "      <td>-0.019442</td>\n",
       "      <td>-0.000193</td>\n",
       "      <td>-0.016032</td>\n",
       "      <td>0.067048</td>\n",
       "      <td>-0.039493</td>\n",
       "      <td>-0.024795</td>\n",
       "      <td>0.019633</td>\n",
       "    </tr>\n",
       "    <tr>\n",
       "      <th>390</th>\n",
       "      <td>0.009016</td>\n",
       "      <td>0.050680</td>\n",
       "      <td>0.069241</td>\n",
       "      <td>0.059744</td>\n",
       "      <td>0.017694</td>\n",
       "      <td>-0.023234</td>\n",
       "      <td>-0.047082</td>\n",
       "      <td>0.034309</td>\n",
       "      <td>0.103297</td>\n",
       "      <td>0.073480</td>\n",
       "    </tr>\n",
       "    <tr>\n",
       "      <th>...</th>\n",
       "      <td>...</td>\n",
       "      <td>...</td>\n",
       "      <td>...</td>\n",
       "      <td>...</td>\n",
       "      <td>...</td>\n",
       "      <td>...</td>\n",
       "      <td>...</td>\n",
       "      <td>...</td>\n",
       "      <td>...</td>\n",
       "      <td>...</td>\n",
       "    </tr>\n",
       "    <tr>\n",
       "      <th>129</th>\n",
       "      <td>0.009016</td>\n",
       "      <td>-0.044642</td>\n",
       "      <td>0.016428</td>\n",
       "      <td>0.004658</td>\n",
       "      <td>0.009439</td>\n",
       "      <td>0.010586</td>\n",
       "      <td>-0.028674</td>\n",
       "      <td>0.034309</td>\n",
       "      <td>0.038968</td>\n",
       "      <td>0.119043</td>\n",
       "    </tr>\n",
       "    <tr>\n",
       "      <th>417</th>\n",
       "      <td>-0.052738</td>\n",
       "      <td>-0.044642</td>\n",
       "      <td>0.071397</td>\n",
       "      <td>-0.074527</td>\n",
       "      <td>-0.015328</td>\n",
       "      <td>-0.001314</td>\n",
       "      <td>0.004460</td>\n",
       "      <td>-0.021412</td>\n",
       "      <td>-0.046883</td>\n",
       "      <td>0.003064</td>\n",
       "    </tr>\n",
       "    <tr>\n",
       "      <th>332</th>\n",
       "      <td>0.030811</td>\n",
       "      <td>-0.044642</td>\n",
       "      <td>0.104809</td>\n",
       "      <td>0.076958</td>\n",
       "      <td>-0.011201</td>\n",
       "      <td>-0.011335</td>\n",
       "      <td>-0.058127</td>\n",
       "      <td>0.034309</td>\n",
       "      <td>0.057108</td>\n",
       "      <td>0.036201</td>\n",
       "    </tr>\n",
       "    <tr>\n",
       "      <th>150</th>\n",
       "      <td>0.023546</td>\n",
       "      <td>-0.044642</td>\n",
       "      <td>0.070319</td>\n",
       "      <td>0.025315</td>\n",
       "      <td>-0.034592</td>\n",
       "      <td>-0.014466</td>\n",
       "      <td>-0.032356</td>\n",
       "      <td>-0.002592</td>\n",
       "      <td>-0.019198</td>\n",
       "      <td>-0.009362</td>\n",
       "    </tr>\n",
       "    <tr>\n",
       "      <th>192</th>\n",
       "      <td>0.056239</td>\n",
       "      <td>0.050680</td>\n",
       "      <td>-0.030996</td>\n",
       "      <td>0.008101</td>\n",
       "      <td>0.019070</td>\n",
       "      <td>0.021233</td>\n",
       "      <td>0.033914</td>\n",
       "      <td>-0.039493</td>\n",
       "      <td>-0.029526</td>\n",
       "      <td>-0.059067</td>\n",
       "    </tr>\n",
       "  </tbody>\n",
       "</table>\n",
       "<p>89 rows × 10 columns</p>\n",
       "</div>"
      ],
      "text/plain": [
       "          age       sex       bmi        bp        s1        s2        s3  \\\n",
       "212  0.067136 -0.044642  0.003494  0.035644  0.049341  0.031254  0.070730   \n",
       "422 -0.078165  0.050680  0.077863  0.052858  0.078236  0.064447  0.026550   \n",
       "67   0.041708  0.050680 -0.014828 -0.017135 -0.005697  0.008394 -0.013948   \n",
       "89  -0.045472 -0.044642 -0.048241 -0.019442 -0.000193 -0.016032  0.067048   \n",
       "390  0.009016  0.050680  0.069241  0.059744  0.017694 -0.023234 -0.047082   \n",
       "..        ...       ...       ...       ...       ...       ...       ...   \n",
       "129  0.009016 -0.044642  0.016428  0.004658  0.009439  0.010586 -0.028674   \n",
       "417 -0.052738 -0.044642  0.071397 -0.074527 -0.015328 -0.001314  0.004460   \n",
       "332  0.030811 -0.044642  0.104809  0.076958 -0.011201 -0.011335 -0.058127   \n",
       "150  0.023546 -0.044642  0.070319  0.025315 -0.034592 -0.014466 -0.032356   \n",
       "192  0.056239  0.050680 -0.030996  0.008101  0.019070  0.021233  0.033914   \n",
       "\n",
       "           s4        s5        s6  \n",
       "212 -0.039493 -0.000612  0.019633  \n",
       "422 -0.002592  0.040673 -0.009362  \n",
       "67  -0.001854 -0.011897  0.003064  \n",
       "89  -0.039493 -0.024795  0.019633  \n",
       "390  0.034309  0.103297  0.073480  \n",
       "..        ...       ...       ...  \n",
       "129  0.034309  0.038968  0.119043  \n",
       "417 -0.021412 -0.046883  0.003064  \n",
       "332  0.034309  0.057108  0.036201  \n",
       "150 -0.002592 -0.019198 -0.009362  \n",
       "192 -0.039493 -0.029526 -0.059067  \n",
       "\n",
       "[89 rows x 10 columns]"
      ]
     },
     "execution_count": 58,
     "metadata": {},
     "output_type": "execute_result"
    }
   ],
   "source": [
    "x_test"
   ]
  },
  {
   "cell_type": "code",
   "execution_count": 59,
   "id": "b120e38d",
   "metadata": {},
   "outputs": [
    {
     "data": {
      "text/html": [
       "<div>\n",
       "<style scoped>\n",
       "    .dataframe tbody tr th:only-of-type {\n",
       "        vertical-align: middle;\n",
       "    }\n",
       "\n",
       "    .dataframe tbody tr th {\n",
       "        vertical-align: top;\n",
       "    }\n",
       "\n",
       "    .dataframe thead th {\n",
       "        text-align: right;\n",
       "    }\n",
       "</style>\n",
       "<table border=\"1\" class=\"dataframe\">\n",
       "  <thead>\n",
       "    <tr style=\"text-align: right;\">\n",
       "      <th></th>\n",
       "      <th>age</th>\n",
       "      <th>sex</th>\n",
       "      <th>bmi</th>\n",
       "      <th>bp</th>\n",
       "      <th>s1</th>\n",
       "      <th>s2</th>\n",
       "      <th>s3</th>\n",
       "      <th>s4</th>\n",
       "      <th>s5</th>\n",
       "      <th>s6</th>\n",
       "    </tr>\n",
       "  </thead>\n",
       "  <tbody>\n",
       "    <tr>\n",
       "      <th>309</th>\n",
       "      <td>-0.009147</td>\n",
       "      <td>0.05068</td>\n",
       "      <td>0.001339</td>\n",
       "      <td>-0.002228</td>\n",
       "      <td>0.079612</td>\n",
       "      <td>0.070084</td>\n",
       "      <td>0.033914</td>\n",
       "      <td>-0.002592</td>\n",
       "      <td>0.026717</td>\n",
       "      <td>0.081764</td>\n",
       "    </tr>\n",
       "  </tbody>\n",
       "</table>\n",
       "</div>"
      ],
      "text/plain": [
       "          age      sex       bmi        bp        s1        s2        s3  \\\n",
       "309 -0.009147  0.05068  0.001339 -0.002228  0.079612  0.070084  0.033914   \n",
       "\n",
       "           s4        s5        s6  \n",
       "309 -0.002592  0.026717  0.081764  "
      ]
     },
     "execution_count": 59,
     "metadata": {},
     "output_type": "execute_result"
    }
   ],
   "source": [
    "x_test[10:11]"
   ]
  },
  {
   "cell_type": "code",
   "execution_count": 60,
   "id": "a74e5782",
   "metadata": {},
   "outputs": [
    {
     "data": {
      "text/plain": [
       "141.70656811061926"
      ]
     },
     "execution_count": 60,
     "metadata": {},
     "output_type": "execute_result"
    }
   ],
   "source": [
    "linear_reg.predict(x_test[10:11])[0]"
   ]
  },
  {
   "cell_type": "code",
   "execution_count": 61,
   "id": "54acfff6",
   "metadata": {},
   "outputs": [
    {
     "data": {
      "text/plain": [
       "['age', 'sex', 'bmi', 'bp', 's1', 's2', 's3', 's4', 's5', 's6']"
      ]
     },
     "execution_count": 61,
     "metadata": {},
     "output_type": "execute_result"
    }
   ],
   "source": [
    "column_names = x.columns.tolist()\n",
    "column_names"
   ]
  },
  {
   "cell_type": "code",
   "execution_count": 62,
   "id": "c78f3194",
   "metadata": {},
   "outputs": [
    {
     "data": {
      "text/plain": [
       "10"
      ]
     },
     "execution_count": 62,
     "metadata": {},
     "output_type": "execute_result"
    }
   ],
   "source": [
    "x.shape[1]"
   ]
  },
  {
   "cell_type": "code",
   "execution_count": 63,
   "id": "8a57e350",
   "metadata": {},
   "outputs": [
    {
     "data": {
      "text/plain": [
       "10"
      ]
     },
     "execution_count": 63,
     "metadata": {},
     "output_type": "execute_result"
    }
   ],
   "source": [
    "linear_reg.n_features_in_"
   ]
  },
  {
   "cell_type": "code",
   "execution_count": 64,
   "id": "ae5f24ba",
   "metadata": {},
   "outputs": [
    {
     "data": {
      "text/plain": [
       "142.0"
      ]
     },
     "execution_count": 64,
     "metadata": {},
     "output_type": "execute_result"
    }
   ],
   "source": [
    "age= -0.009147\n",
    "sex=0.05068\n",
    "bmi=0.001339\n",
    "bp=-0.002228\n",
    "s1=0.079612\n",
    "s2=0.070084\n",
    "s3=0.033914\n",
    "s4=-0.002592\n",
    "s5=0.026717\n",
    "s6=0.081764\n",
    "\n",
    "test_array = np.zeros([1,linear_reg.n_features_in_])\n",
    "test_array[0,0] = age\n",
    "test_array[0,1] = sex\n",
    "test_array[0,2] = bmi\n",
    "test_array[0,3] = bp\n",
    "test_array[0,4] = s1\n",
    "test_array[0,5] = s2\n",
    "test_array[0,6] = s3\n",
    "test_array[0,7] = s4\n",
    "test_array[0,8] = s5\n",
    "test_array[0,9] = s6\n",
    "\n",
    "predict_diabetic_condition = np.around(linear_reg.predict(test_array)[0],0)\n",
    "predict_diabetic_condition"
   ]
  },
  {
   "cell_type": "code",
   "execution_count": 66,
   "id": "122996c5",
   "metadata": {},
   "outputs": [],
   "source": [
    "with open('linear_regression.pkl','wb') as f:\n",
    "    pickle.dump(linear_reg,f)"
   ]
  },
  {
   "cell_type": "code",
   "execution_count": 68,
   "id": "fe4ef4f8",
   "metadata": {},
   "outputs": [],
   "source": [
    "project_data = {\"Column Names\" : column_names}\n",
    "\n",
    "with open('proj_data.json','w') as f:\n",
    "    json.dump(project_data, f)"
   ]
  },
  {
   "cell_type": "code",
   "execution_count": null,
   "id": "dcd021fe",
   "metadata": {},
   "outputs": [],
   "source": []
  }
 ],
 "metadata": {
  "kernelspec": {
   "display_name": "Python 3 (ipykernel)",
   "language": "python",
   "name": "python3"
  },
  "language_info": {
   "codemirror_mode": {
    "name": "ipython",
    "version": 3
   },
   "file_extension": ".py",
   "mimetype": "text/x-python",
   "name": "python",
   "nbconvert_exporter": "python",
   "pygments_lexer": "ipython3",
   "version": "3.11.4"
  }
 },
 "nbformat": 4,
 "nbformat_minor": 5
}
